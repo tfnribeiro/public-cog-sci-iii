{
 "cells": [
  {
   "cell_type": "code",
   "execution_count": null,
   "id": "98a19374",
   "metadata": {
    "ExecuteTime": {
     "end_time": "2022-11-23T14:49:19.320972Z",
     "start_time": "2022-11-23T14:49:16.310880Z"
    }
   },
   "outputs": [
    {
     "name": "stdout",
     "output_type": "stream",
     "text": [
      "Requirement already satisfied: openpyxl in c:\\anaconda3\\lib\\site-packages (3.0.10)\n",
      "Requirement already satisfied: et_xmlfile in c:\\anaconda3\\lib\\site-packages (from openpyxl) (1.1.0)\n",
      "Note: you may need to restart the kernel to use updated packages.\n",
      "Note: you may need to restart the kernel to use updated packages.\n"
     ]
    },
    {
     "name": "stderr",
     "output_type": "stream",
     "text": [
      "ERROR: Could not find a version that satisfies the requirement PIL (from versions: none)\n",
      "ERROR: No matching distribution found for PIL\n"
     ]
    }
   ],
   "source": [
    "%pip install openpyxl\n",
    "%pip install PIL"
   ]
  },
  {
   "cell_type": "code",
   "execution_count": null,
   "id": "5e43c61b",
   "metadata": {
    "ExecuteTime": {
     "end_time": "2022-11-23T14:49:19.730590Z",
     "start_time": "2022-11-23T14:49:19.321950Z"
    }
   },
   "outputs": [],
   "source": [
    "import pandas as pd\n",
    "import os\n",
    "import numpy as np\n",
    "from PIL import Image"
   ]
  },
  {
   "cell_type": "code",
   "execution_count": null,
   "id": "77b72d57",
   "metadata": {
    "ExecuteTime": {
     "end_time": "2022-11-23T14:49:19.735476Z",
     "start_time": "2022-11-23T14:49:19.731567Z"
    }
   },
   "outputs": [],
   "source": [
    "DATA_DIR = \"data\"\n",
    "DATASET_DIR = os.path.join(\"ChangeBlindnessTTM\", \"ChangeBlindnessTTM-ExpComplete\", \"Data\", \"CBDatabase\")"
   ]
  },
  {
   "cell_type": "code",
   "execution_count": null,
   "id": "9e3d1461",
   "metadata": {
    "ExecuteTime": {
     "end_time": "2022-11-23T14:49:20.113819Z",
     "start_time": "2022-11-23T14:49:19.736453Z"
    }
   },
   "outputs": [
    {
     "name": "stderr",
     "output_type": "stream",
     "text": [
      "c:\\ProgramData\\Anaconda3\\lib\\site-packages\\openpyxl\\worksheet\\_reader.py:312: UserWarning: Unknown extension is not supported and will be removed\n",
      "  warn(msg)\n"
     ]
    }
   ],
   "source": [
    "dataset_data = pd.read_excel(os.path.join(DATASET_DIR, \"CBDatabase_Size_Eccentricity_RT.xlsx\"))"
   ]
  },
  {
   "cell_type": "code",
   "execution_count": null,
   "id": "18d2ca08",
   "metadata": {
    "ExecuteTime": {
     "end_time": "2022-11-23T14:49:20.134341Z",
     "start_time": "2022-11-23T14:49:20.114795Z"
    },
    "scrolled": true
   },
   "outputs": [
    {
     "data": {
      "text/html": [
       "<div>\n",
       "<style scoped>\n",
       "    .dataframe tbody tr th:only-of-type {\n",
       "        vertical-align: middle;\n",
       "    }\n",
       "\n",
       "    .dataframe tbody tr th {\n",
       "        vertical-align: top;\n",
       "    }\n",
       "\n",
       "    .dataframe thead th {\n",
       "        text-align: right;\n",
       "    }\n",
       "</style>\n",
       "<table border=\"1\" class=\"dataframe\">\n",
       "  <thead>\n",
       "    <tr style=\"text-align: right;\">\n",
       "      <th></th>\n",
       "      <th>Image no.</th>\n",
       "      <th>Pixel area</th>\n",
       "      <th>Unnamed: 2</th>\n",
       "      <th>Unnamed: 3</th>\n",
       "      <th>Eccentricity</th>\n",
       "      <th>Unnamed: 5</th>\n",
       "      <th>Unnamed: 6</th>\n",
       "      <th>Location</th>\n",
       "      <th>Unnamed: 8</th>\n",
       "      <th>Unnamed: 9</th>\n",
       "      <th>Unnamed: 10</th>\n",
       "      <th>Unnamed: 11</th>\n",
       "      <th>Reaction Time</th>\n",
       "      <th>Unnamed: 13</th>\n",
       "      <th>Unnamed: 14</th>\n",
       "      <th>Change set</th>\n",
       "      <th>Image no.</th>\n",
       "    </tr>\n",
       "  </thead>\n",
       "  <tbody>\n",
       "    <tr>\n",
       "      <th>0</th>\n",
       "      <td>NaN</td>\n",
       "      <td>size_Left</td>\n",
       "      <td>size_Right</td>\n",
       "      <td>NaN</td>\n",
       "      <td>ecc_Left</td>\n",
       "      <td>ecc_Right</td>\n",
       "      <td>NaN</td>\n",
       "      <td>X_Left</td>\n",
       "      <td>Y_Left</td>\n",
       "      <td>X_Right</td>\n",
       "      <td>Y_Right</td>\n",
       "      <td>NaN</td>\n",
       "      <td>RT_Left</td>\n",
       "      <td>RT_Right</td>\n",
       "      <td>NaN</td>\n",
       "      <td>These columns represent the condition and imag...</td>\n",
       "      <td>NaN</td>\n",
       "    </tr>\n",
       "    <tr>\n",
       "      <th>1</th>\n",
       "      <td>1.0</td>\n",
       "      <td>3283</td>\n",
       "      <td>3283</td>\n",
       "      <td>NaN</td>\n",
       "      <td>127.094453</td>\n",
       "      <td>127.094453</td>\n",
       "      <td>NaN</td>\n",
       "      <td>445</td>\n",
       "      <td>276</td>\n",
       "      <td>579</td>\n",
       "      <td>276</td>\n",
       "      <td>NaN</td>\n",
       "      <td>7.054616</td>\n",
       "      <td>11.332477</td>\n",
       "      <td>NaN</td>\n",
       "      <td>scroll down…</td>\n",
       "      <td>NaN</td>\n",
       "    </tr>\n",
       "    <tr>\n",
       "      <th>2</th>\n",
       "      <td>2.0</td>\n",
       "      <td>4343</td>\n",
       "      <td>4343</td>\n",
       "      <td>NaN</td>\n",
       "      <td>266.159726</td>\n",
       "      <td>266.159726</td>\n",
       "      <td>NaN</td>\n",
       "      <td>408</td>\n",
       "      <td>629</td>\n",
       "      <td>616</td>\n",
       "      <td>629</td>\n",
       "      <td>NaN</td>\n",
       "      <td>6.938125</td>\n",
       "      <td>7.222594</td>\n",
       "      <td>NaN</td>\n",
       "      <td>NaN</td>\n",
       "      <td>NaN</td>\n",
       "    </tr>\n",
       "    <tr>\n",
       "      <th>3</th>\n",
       "      <td>3.0</td>\n",
       "      <td>1956</td>\n",
       "      <td>1956</td>\n",
       "      <td>NaN</td>\n",
       "      <td>186.868938</td>\n",
       "      <td>186.868938</td>\n",
       "      <td>NaN</td>\n",
       "      <td>374</td>\n",
       "      <td>510</td>\n",
       "      <td>650</td>\n",
       "      <td>510</td>\n",
       "      <td>NaN</td>\n",
       "      <td>32.474656</td>\n",
       "      <td>7.045366</td>\n",
       "      <td>NaN</td>\n",
       "      <td>NaN</td>\n",
       "      <td>NaN</td>\n",
       "    </tr>\n",
       "    <tr>\n",
       "      <th>4</th>\n",
       "      <td>4.0</td>\n",
       "      <td>11858</td>\n",
       "      <td>11858</td>\n",
       "      <td>NaN</td>\n",
       "      <td>376.558096</td>\n",
       "      <td>376.558096</td>\n",
       "      <td>NaN</td>\n",
       "      <td>342</td>\n",
       "      <td>48</td>\n",
       "      <td>682</td>\n",
       "      <td>48</td>\n",
       "      <td>NaN</td>\n",
       "      <td>12.591845</td>\n",
       "      <td>18.101458</td>\n",
       "      <td>NaN</td>\n",
       "      <td>NaN</td>\n",
       "      <td>NaN</td>\n",
       "    </tr>\n",
       "  </tbody>\n",
       "</table>\n",
       "</div>"
      ],
      "text/plain": [
       "   Image no.  Pixel area   Unnamed: 2  Unnamed: 3 Eccentricity  Unnamed: 5  \\\n",
       "0        NaN   size_Left   size_Right         NaN     ecc_Left   ecc_Right   \n",
       "1        1.0        3283         3283         NaN   127.094453  127.094453   \n",
       "2        2.0        4343         4343         NaN   266.159726  266.159726   \n",
       "3        3.0        1956         1956         NaN   186.868938  186.868938   \n",
       "4        4.0       11858        11858         NaN   376.558096  376.558096   \n",
       "\n",
       "   Unnamed: 6 Location Unnamed: 8 Unnamed: 9 Unnamed: 10  Unnamed: 11  \\\n",
       "0         NaN   X_Left     Y_Left    X_Right     Y_Right          NaN   \n",
       "1         NaN      445        276        579         276          NaN   \n",
       "2         NaN      408        629        616         629          NaN   \n",
       "3         NaN      374        510        650         510          NaN   \n",
       "4         NaN      342         48        682          48          NaN   \n",
       "\n",
       "  Reaction Time Unnamed: 13  Unnamed: 14  \\\n",
       "0       RT_Left    RT_Right          NaN   \n",
       "1      7.054616   11.332477          NaN   \n",
       "2      6.938125    7.222594          NaN   \n",
       "3     32.474656    7.045366          NaN   \n",
       "4     12.591845   18.101458          NaN   \n",
       "\n",
       "                                          Change set   Image no.  \n",
       "0  These columns represent the condition and imag...         NaN  \n",
       "1                                       scroll down…         NaN  \n",
       "2                                                NaN         NaN  \n",
       "3                                                NaN         NaN  \n",
       "4                                                NaN         NaN  "
      ]
     },
     "metadata": {},
     "output_type": "display_data"
    }
   ],
   "source": [
    "dataset_data.head(5)"
   ]
  },
  {
   "cell_type": "code",
   "execution_count": null,
   "id": "b81faf17",
   "metadata": {
    "ExecuteTime": {
     "end_time": "2022-11-23T14:49:20.139228Z",
     "start_time": "2022-11-23T14:49:20.135318Z"
    }
   },
   "outputs": [],
   "source": [
    "new_names = dataset_data.columns.to_numpy()"
   ]
  },
  {
   "cell_type": "code",
   "execution_count": null,
   "id": "3a4c0eda",
   "metadata": {
    "ExecuteTime": {
     "end_time": "2022-11-23T14:49:20.151484Z",
     "start_time": "2022-11-23T14:49:20.140204Z"
    }
   },
   "outputs": [],
   "source": [
    "for i, name in enumerate(dataset_data.iloc[0]):\n",
    "    if not pd.isnull(name):\n",
    "        new_names[i] = name[:20].strip()"
   ]
  },
  {
   "cell_type": "code",
   "execution_count": null,
   "id": "cd3ca912",
   "metadata": {
    "ExecuteTime": {
     "end_time": "2022-11-23T14:49:20.173959Z",
     "start_time": "2022-11-23T14:49:20.152462Z"
    }
   },
   "outputs": [
    {
     "data": {
      "text/html": [
       "<div>\n",
       "<style scoped>\n",
       "    .dataframe tbody tr th:only-of-type {\n",
       "        vertical-align: middle;\n",
       "    }\n",
       "\n",
       "    .dataframe tbody tr th {\n",
       "        vertical-align: top;\n",
       "    }\n",
       "\n",
       "    .dataframe thead th {\n",
       "        text-align: right;\n",
       "    }\n",
       "</style>\n",
       "<table border=\"1\" class=\"dataframe\">\n",
       "  <thead>\n",
       "    <tr style=\"text-align: right;\">\n",
       "      <th></th>\n",
       "      <th>Image no.</th>\n",
       "      <th>size_Left</th>\n",
       "      <th>size_Right</th>\n",
       "      <th>Unnamed: 3</th>\n",
       "      <th>ecc_Left</th>\n",
       "      <th>ecc_Right</th>\n",
       "      <th>Unnamed: 6</th>\n",
       "      <th>X_Left</th>\n",
       "      <th>Y_Left</th>\n",
       "      <th>X_Right</th>\n",
       "      <th>Y_Right</th>\n",
       "      <th>Unnamed: 11</th>\n",
       "      <th>RT_Left</th>\n",
       "      <th>RT_Right</th>\n",
       "      <th>Unnamed: 14</th>\n",
       "      <th>These columns repres</th>\n",
       "      <th>Image no.</th>\n",
       "    </tr>\n",
       "  </thead>\n",
       "  <tbody>\n",
       "    <tr>\n",
       "      <th>0</th>\n",
       "      <td>NaN</td>\n",
       "      <td>size_Left</td>\n",
       "      <td>size_Right</td>\n",
       "      <td>NaN</td>\n",
       "      <td>ecc_Left</td>\n",
       "      <td>ecc_Right</td>\n",
       "      <td>NaN</td>\n",
       "      <td>X_Left</td>\n",
       "      <td>Y_Left</td>\n",
       "      <td>X_Right</td>\n",
       "      <td>Y_Right</td>\n",
       "      <td>NaN</td>\n",
       "      <td>RT_Left</td>\n",
       "      <td>RT_Right</td>\n",
       "      <td>NaN</td>\n",
       "      <td>These columns represent the condition and imag...</td>\n",
       "      <td>NaN</td>\n",
       "    </tr>\n",
       "    <tr>\n",
       "      <th>1</th>\n",
       "      <td>1.0</td>\n",
       "      <td>3283</td>\n",
       "      <td>3283</td>\n",
       "      <td>NaN</td>\n",
       "      <td>127.094453</td>\n",
       "      <td>127.094453</td>\n",
       "      <td>NaN</td>\n",
       "      <td>445</td>\n",
       "      <td>276</td>\n",
       "      <td>579</td>\n",
       "      <td>276</td>\n",
       "      <td>NaN</td>\n",
       "      <td>7.054616</td>\n",
       "      <td>11.332477</td>\n",
       "      <td>NaN</td>\n",
       "      <td>scroll down…</td>\n",
       "      <td>NaN</td>\n",
       "    </tr>\n",
       "    <tr>\n",
       "      <th>2</th>\n",
       "      <td>2.0</td>\n",
       "      <td>4343</td>\n",
       "      <td>4343</td>\n",
       "      <td>NaN</td>\n",
       "      <td>266.159726</td>\n",
       "      <td>266.159726</td>\n",
       "      <td>NaN</td>\n",
       "      <td>408</td>\n",
       "      <td>629</td>\n",
       "      <td>616</td>\n",
       "      <td>629</td>\n",
       "      <td>NaN</td>\n",
       "      <td>6.938125</td>\n",
       "      <td>7.222594</td>\n",
       "      <td>NaN</td>\n",
       "      <td>NaN</td>\n",
       "      <td>NaN</td>\n",
       "    </tr>\n",
       "    <tr>\n",
       "      <th>3</th>\n",
       "      <td>3.0</td>\n",
       "      <td>1956</td>\n",
       "      <td>1956</td>\n",
       "      <td>NaN</td>\n",
       "      <td>186.868938</td>\n",
       "      <td>186.868938</td>\n",
       "      <td>NaN</td>\n",
       "      <td>374</td>\n",
       "      <td>510</td>\n",
       "      <td>650</td>\n",
       "      <td>510</td>\n",
       "      <td>NaN</td>\n",
       "      <td>32.474656</td>\n",
       "      <td>7.045366</td>\n",
       "      <td>NaN</td>\n",
       "      <td>NaN</td>\n",
       "      <td>NaN</td>\n",
       "    </tr>\n",
       "    <tr>\n",
       "      <th>4</th>\n",
       "      <td>4.0</td>\n",
       "      <td>11858</td>\n",
       "      <td>11858</td>\n",
       "      <td>NaN</td>\n",
       "      <td>376.558096</td>\n",
       "      <td>376.558096</td>\n",
       "      <td>NaN</td>\n",
       "      <td>342</td>\n",
       "      <td>48</td>\n",
       "      <td>682</td>\n",
       "      <td>48</td>\n",
       "      <td>NaN</td>\n",
       "      <td>12.591845</td>\n",
       "      <td>18.101458</td>\n",
       "      <td>NaN</td>\n",
       "      <td>NaN</td>\n",
       "      <td>NaN</td>\n",
       "    </tr>\n",
       "  </tbody>\n",
       "</table>\n",
       "</div>"
      ],
      "text/plain": [
       "   Image no.   size_Left   size_Right  Unnamed: 3    ecc_Left   ecc_Right  \\\n",
       "0        NaN   size_Left   size_Right         NaN    ecc_Left   ecc_Right   \n",
       "1        1.0        3283         3283         NaN  127.094453  127.094453   \n",
       "2        2.0        4343         4343         NaN  266.159726  266.159726   \n",
       "3        3.0        1956         1956         NaN  186.868938  186.868938   \n",
       "4        4.0       11858        11858         NaN  376.558096  376.558096   \n",
       "\n",
       "   Unnamed: 6   X_Left   Y_Left   X_Right   Y_Right  Unnamed: 11    RT_Left  \\\n",
       "0         NaN   X_Left   Y_Left   X_Right   Y_Right          NaN    RT_Left   \n",
       "1         NaN      445      276       579       276          NaN   7.054616   \n",
       "2         NaN      408      629       616       629          NaN   6.938125   \n",
       "3         NaN      374      510       650       510          NaN  32.474656   \n",
       "4         NaN      342       48       682        48          NaN  12.591845   \n",
       "\n",
       "    RT_Right  Unnamed: 14                               These columns repres  \\\n",
       "0   RT_Right          NaN  These columns represent the condition and imag...   \n",
       "1  11.332477          NaN                                       scroll down…   \n",
       "2   7.222594          NaN                                                NaN   \n",
       "3   7.045366          NaN                                                NaN   \n",
       "4  18.101458          NaN                                                NaN   \n",
       "\n",
       "    Image no.  \n",
       "0         NaN  \n",
       "1         NaN  \n",
       "2         NaN  \n",
       "3         NaN  \n",
       "4         NaN  "
      ]
     },
     "metadata": {},
     "output_type": "display_data"
    }
   ],
   "source": [
    "dataset_data.columns = new_names\n",
    "dataset_data.head(5)"
   ]
  },
  {
   "cell_type": "code",
   "execution_count": null,
   "id": "6cbc4637",
   "metadata": {
    "ExecuteTime": {
     "end_time": "2022-11-23T14:49:20.185685Z",
     "start_time": "2022-11-23T14:49:20.175913Z"
    }
   },
   "outputs": [],
   "source": [
    "dataset_data = dataset_data.drop(0, axis=0)"
   ]
  },
  {
   "cell_type": "code",
   "execution_count": null,
   "id": "fcea0ecd",
   "metadata": {
    "ExecuteTime": {
     "end_time": "2022-11-23T14:49:20.197410Z",
     "start_time": "2022-11-23T14:49:20.188617Z"
    }
   },
   "outputs": [],
   "source": [
    "dataset_data['Image no.'] = dataset_data['Image no.'].apply(int)"
   ]
  },
  {
   "cell_type": "code",
   "execution_count": null,
   "id": "2d9433c0",
   "metadata": {},
   "outputs": [],
   "source": [
    "# Code run to get the images used in the experiment."
   ]
  },
  {
   "cell_type": "code",
   "execution_count": null,
   "id": "5f5ee369",
   "metadata": {
    "ExecuteTime": {
     "end_time": "2022-11-23T07:33:01.085828Z",
     "start_time": "2022-11-23T07:33:01.068824Z"
    },
    "scrolled": true
   },
   "outputs": [],
   "source": [
    "# dataset_data[(dataset_data.size_Left > 500) & (dataset_data.size_Left < 1500)].sample(10)['Image no.'].to_numpy()\n",
    "# array([ 35,  27,  34,  68,  77, 118,  97,  61, 120,  60], dtype=int64)"
   ]
  },
  {
   "cell_type": "code",
   "execution_count": null,
   "id": "38ba35e8",
   "metadata": {
    "ExecuteTime": {
     "end_time": "2022-11-23T07:33:06.127094Z",
     "start_time": "2022-11-23T07:33:06.119585Z"
    }
   },
   "outputs": [],
   "source": [
    "# dataset_data[(dataset_data.size_Left > 2000) & (dataset_data.size_Left < 4000)].sample(10)['Image no.'].to_numpy()\n",
    "# array([ 78,  49,  84, 112,  25, 116, 122,   7, 115,  64], dtype=int64)"
   ]
  },
  {
   "cell_type": "code",
   "execution_count": null,
   "id": "1e64dded",
   "metadata": {
    "ExecuteTime": {
     "end_time": "2022-11-23T07:33:12.615070Z",
     "start_time": "2022-11-23T07:33:12.600064Z"
    }
   },
   "outputs": [],
   "source": [
    "# dataset_data[(dataset_data.size_Left > 5000) & (dataset_data.size_Left < 7000)].sample(5)['Image no.'].to_numpy()\n",
    "# array([ 40, 102,  39,  54,  55], dtype=int64)"
   ]
  },
  {
   "cell_type": "code",
   "execution_count": null,
   "id": "95ca991b",
   "metadata": {
    "ExecuteTime": {
     "end_time": "2022-11-23T07:33:25.949056Z",
     "start_time": "2022-11-23T07:33:25.946054Z"
    }
   },
   "outputs": [],
   "source": [
    "# dataset_data[(dataset_data.size_Left > 8000) & (dataset_data.size_Left < 10000)].sample(3)['Image no.'].to_numpy()\n",
    "# array([48,  5, 22], dtype=int64)"
   ]
  },
  {
   "cell_type": "code",
   "execution_count": null,
   "id": "16bdf661",
   "metadata": {
    "ExecuteTime": {
     "end_time": "2022-11-23T07:33:26.285060Z",
     "start_time": "2022-11-23T07:33:26.276058Z"
    }
   },
   "outputs": [],
   "source": [
    "# dataset_data[(dataset_data.size_Left > 10000)].sample(3)['Image no.'].to_numpy()\n",
    "# array([ 9,  4, 18], dtype=int64)"
   ]
  },
  {
   "cell_type": "code",
   "execution_count": null,
   "id": "7ed5476c",
   "metadata": {
    "ExecuteTime": {
     "end_time": "2022-11-23T14:49:39.115290Z",
     "start_time": "2022-11-23T14:49:29.393472Z"
    },
    "scrolled": false
   },
   "outputs": [
    {
     "name": "stderr",
     "output_type": "stream",
     "text": [
      "c:\\ProgramData\\Anaconda3\\lib\\site-packages\\IPython\\core\\interactiveshell.py:3444: DtypeWarning: Columns (5,6,7,16,17,18,19,20,21,25,26,27,28,29,30,35,36,43,44,45,46,47,48,49,50,53,54,55,56,57,58,59,60,61,62,64,65,77,78) have mixed types.Specify dtype option on import or set low_memory=False.\n",
      "  exec(code_obj, self.user_global_ns, self.user_ns)\n"
     ]
    }
   ],
   "source": [
    "og_file = pd.read_csv(os.path.join(DATA_DIR, \"ChangeBlindnessTTMDataExport-P22.tsv\"), delimiter=\"\\t\")"
   ]
  },
  {
   "cell_type": "code",
   "execution_count": null,
   "id": "734045c5",
   "metadata": {
    "ExecuteTime": {
     "end_time": "2022-11-23T14:49:39.132881Z",
     "start_time": "2022-11-23T14:49:39.117244Z"
    }
   },
   "outputs": [
    {
     "data": {
      "text/html": [
       "<div>\n",
       "<style scoped>\n",
       "    .dataframe tbody tr th:only-of-type {\n",
       "        vertical-align: middle;\n",
       "    }\n",
       "\n",
       "    .dataframe tbody tr th {\n",
       "        vertical-align: top;\n",
       "    }\n",
       "\n",
       "    .dataframe thead th {\n",
       "        text-align: right;\n",
       "    }\n",
       "</style>\n",
       "<table border=\"1\" class=\"dataframe\">\n",
       "  <thead>\n",
       "    <tr style=\"text-align: right;\">\n",
       "      <th></th>\n",
       "      <th>Recording timestamp</th>\n",
       "      <th>Computer timestamp</th>\n",
       "      <th>Sensor</th>\n",
       "      <th>Export date</th>\n",
       "      <th>Participant name</th>\n",
       "      <th>Age</th>\n",
       "      <th>Using Glasses/Contacts?</th>\n",
       "      <th>Gender</th>\n",
       "      <th>Recording name</th>\n",
       "      <th>Recording date UTC</th>\n",
       "      <th>...</th>\n",
       "      <th>Original Media height</th>\n",
       "      <th>Eye movement type</th>\n",
       "      <th>Gaze event duration</th>\n",
       "      <th>Eye movement type index</th>\n",
       "      <th>Fixation point X</th>\n",
       "      <th>Fixation point Y</th>\n",
       "      <th>Fixation point X (MCSnorm)</th>\n",
       "      <th>Fixation point Y (MCSnorm)</th>\n",
       "      <th>Mouse position X</th>\n",
       "      <th>Mouse position Y</th>\n",
       "    </tr>\n",
       "  </thead>\n",
       "  <tbody>\n",
       "    <tr>\n",
       "      <th>0</th>\n",
       "      <td>0</td>\n",
       "      <td>1043292967691</td>\n",
       "      <td>NaN</td>\n",
       "      <td>16-11-2022</td>\n",
       "      <td>test</td>\n",
       "      <td>NaN</td>\n",
       "      <td>NaN</td>\n",
       "      <td>NaN</td>\n",
       "      <td>Recording1</td>\n",
       "      <td>26-10-2022</td>\n",
       "      <td>...</td>\n",
       "      <td>NaN</td>\n",
       "      <td>NaN</td>\n",
       "      <td>NaN</td>\n",
       "      <td>NaN</td>\n",
       "      <td>NaN</td>\n",
       "      <td>NaN</td>\n",
       "      <td>NaN</td>\n",
       "      <td>NaN</td>\n",
       "      <td>NaN</td>\n",
       "      <td>NaN</td>\n",
       "    </tr>\n",
       "    <tr>\n",
       "      <th>1</th>\n",
       "      <td>1093006</td>\n",
       "      <td>1043294060697</td>\n",
       "      <td>NaN</td>\n",
       "      <td>16-11-2022</td>\n",
       "      <td>test</td>\n",
       "      <td>NaN</td>\n",
       "      <td>NaN</td>\n",
       "      <td>NaN</td>\n",
       "      <td>Recording1</td>\n",
       "      <td>26-10-2022</td>\n",
       "      <td>...</td>\n",
       "      <td>NaN</td>\n",
       "      <td>NaN</td>\n",
       "      <td>NaN</td>\n",
       "      <td>NaN</td>\n",
       "      <td>NaN</td>\n",
       "      <td>NaN</td>\n",
       "      <td>NaN</td>\n",
       "      <td>NaN</td>\n",
       "      <td>NaN</td>\n",
       "      <td>NaN</td>\n",
       "    </tr>\n",
       "    <tr>\n",
       "      <th>2</th>\n",
       "      <td>3095085</td>\n",
       "      <td>1043296062776</td>\n",
       "      <td>NaN</td>\n",
       "      <td>16-11-2022</td>\n",
       "      <td>test</td>\n",
       "      <td>NaN</td>\n",
       "      <td>NaN</td>\n",
       "      <td>NaN</td>\n",
       "      <td>Recording1</td>\n",
       "      <td>26-10-2022</td>\n",
       "      <td>...</td>\n",
       "      <td>NaN</td>\n",
       "      <td>NaN</td>\n",
       "      <td>NaN</td>\n",
       "      <td>NaN</td>\n",
       "      <td>NaN</td>\n",
       "      <td>NaN</td>\n",
       "      <td>NaN</td>\n",
       "      <td>NaN</td>\n",
       "      <td>NaN</td>\n",
       "      <td>NaN</td>\n",
       "    </tr>\n",
       "    <tr>\n",
       "      <th>3</th>\n",
       "      <td>3095085</td>\n",
       "      <td>1043296062776</td>\n",
       "      <td>NaN</td>\n",
       "      <td>16-11-2022</td>\n",
       "      <td>test</td>\n",
       "      <td>NaN</td>\n",
       "      <td>NaN</td>\n",
       "      <td>NaN</td>\n",
       "      <td>Recording1</td>\n",
       "      <td>26-10-2022</td>\n",
       "      <td>...</td>\n",
       "      <td>NaN</td>\n",
       "      <td>NaN</td>\n",
       "      <td>NaN</td>\n",
       "      <td>NaN</td>\n",
       "      <td>NaN</td>\n",
       "      <td>NaN</td>\n",
       "      <td>NaN</td>\n",
       "      <td>NaN</td>\n",
       "      <td>NaN</td>\n",
       "      <td>NaN</td>\n",
       "    </tr>\n",
       "    <tr>\n",
       "      <th>4</th>\n",
       "      <td>3211719</td>\n",
       "      <td>1043296179410</td>\n",
       "      <td>NaN</td>\n",
       "      <td>16-11-2022</td>\n",
       "      <td>test</td>\n",
       "      <td>NaN</td>\n",
       "      <td>NaN</td>\n",
       "      <td>NaN</td>\n",
       "      <td>Recording1</td>\n",
       "      <td>26-10-2022</td>\n",
       "      <td>...</td>\n",
       "      <td>NaN</td>\n",
       "      <td>NaN</td>\n",
       "      <td>NaN</td>\n",
       "      <td>NaN</td>\n",
       "      <td>NaN</td>\n",
       "      <td>NaN</td>\n",
       "      <td>NaN</td>\n",
       "      <td>NaN</td>\n",
       "      <td>NaN</td>\n",
       "      <td>NaN</td>\n",
       "    </tr>\n",
       "  </tbody>\n",
       "</table>\n",
       "<p>5 rows × 81 columns</p>\n",
       "</div>"
      ],
      "text/plain": [
       "   Recording timestamp  Computer timestamp Sensor Export date  \\\n",
       "0                    0       1043292967691    NaN  16-11-2022   \n",
       "1              1093006       1043294060697    NaN  16-11-2022   \n",
       "2              3095085       1043296062776    NaN  16-11-2022   \n",
       "3              3095085       1043296062776    NaN  16-11-2022   \n",
       "4              3211719       1043296179410    NaN  16-11-2022   \n",
       "\n",
       "  Participant name  Age Using Glasses/Contacts? Gender Recording name  \\\n",
       "0             test  NaN                     NaN    NaN     Recording1   \n",
       "1             test  NaN                     NaN    NaN     Recording1   \n",
       "2             test  NaN                     NaN    NaN     Recording1   \n",
       "3             test  NaN                     NaN    NaN     Recording1   \n",
       "4             test  NaN                     NaN    NaN     Recording1   \n",
       "\n",
       "  Recording date UTC  ... Original Media height  Eye movement type  \\\n",
       "0         26-10-2022  ...                   NaN                NaN   \n",
       "1         26-10-2022  ...                   NaN                NaN   \n",
       "2         26-10-2022  ...                   NaN                NaN   \n",
       "3         26-10-2022  ...                   NaN                NaN   \n",
       "4         26-10-2022  ...                   NaN                NaN   \n",
       "\n",
       "  Gaze event duration  Eye movement type index  Fixation point X  \\\n",
       "0                 NaN                      NaN               NaN   \n",
       "1                 NaN                      NaN               NaN   \n",
       "2                 NaN                      NaN               NaN   \n",
       "3                 NaN                      NaN               NaN   \n",
       "4                 NaN                      NaN               NaN   \n",
       "\n",
       "  Fixation point Y Fixation point X (MCSnorm) Fixation point Y (MCSnorm)  \\\n",
       "0              NaN                        NaN                        NaN   \n",
       "1              NaN                        NaN                        NaN   \n",
       "2              NaN                        NaN                        NaN   \n",
       "3              NaN                        NaN                        NaN   \n",
       "4              NaN                        NaN                        NaN   \n",
       "\n",
       "  Mouse position X Mouse position Y  \n",
       "0              NaN              NaN  \n",
       "1              NaN              NaN  \n",
       "2              NaN              NaN  \n",
       "3              NaN              NaN  \n",
       "4              NaN              NaN  \n",
       "\n",
       "[5 rows x 81 columns]"
      ]
     },
     "metadata": {},
     "output_type": "display_data"
    }
   ],
   "source": [
    "og_file.head(5)"
   ]
  },
  {
   "cell_type": "code",
   "execution_count": null,
   "id": "e886f067",
   "metadata": {
    "ExecuteTime": {
     "end_time": "2022-11-23T14:49:39.143629Z",
     "start_time": "2022-11-23T14:49:39.133857Z"
    }
   },
   "outputs": [
    {
     "data": {
      "text/plain": [
       "(1200061, 81)"
      ]
     },
     "metadata": {},
     "output_type": "display_data"
    }
   ],
   "source": [
    "og_file.shape"
   ]
  },
  {
   "cell_type": "code",
   "execution_count": null,
   "id": "17893d6a",
   "metadata": {
    "ExecuteTime": {
     "end_time": "2022-11-23T14:49:39.938421Z",
     "start_time": "2022-11-23T14:49:39.145583Z"
    }
   },
   "outputs": [
    {
     "data": {
      "text/plain": [
       "(1154594, 81)"
      ]
     },
     "metadata": {},
     "output_type": "display_data"
    }
   ],
   "source": [
    "# Drop the Test participant\n",
    "og_file = og_file.drop(og_file[og_file[\"Participant name\"] == \"test\"].index, axis=0)\n",
    "og_file.shape"
   ]
  },
  {
   "cell_type": "code",
   "execution_count": null,
   "id": "69b04637",
   "metadata": {
    "ExecuteTime": {
     "end_time": "2022-11-23T14:49:39.957965Z",
     "start_time": "2022-11-23T14:49:39.939397Z"
    }
   },
   "outputs": [
    {
     "data": {
      "text/html": [
       "<div>\n",
       "<style scoped>\n",
       "    .dataframe tbody tr th:only-of-type {\n",
       "        vertical-align: middle;\n",
       "    }\n",
       "\n",
       "    .dataframe tbody tr th {\n",
       "        vertical-align: top;\n",
       "    }\n",
       "\n",
       "    .dataframe thead th {\n",
       "        text-align: right;\n",
       "    }\n",
       "</style>\n",
       "<table border=\"1\" class=\"dataframe\">\n",
       "  <thead>\n",
       "    <tr style=\"text-align: right;\">\n",
       "      <th></th>\n",
       "      <th>Recording timestamp</th>\n",
       "      <th>Computer timestamp</th>\n",
       "      <th>Sensor</th>\n",
       "      <th>Export date</th>\n",
       "      <th>Participant name</th>\n",
       "      <th>Age</th>\n",
       "      <th>Using Glasses/Contacts?</th>\n",
       "      <th>Gender</th>\n",
       "      <th>Recording name</th>\n",
       "      <th>Recording date UTC</th>\n",
       "      <th>...</th>\n",
       "      <th>Original Media height</th>\n",
       "      <th>Eye movement type</th>\n",
       "      <th>Gaze event duration</th>\n",
       "      <th>Eye movement type index</th>\n",
       "      <th>Fixation point X</th>\n",
       "      <th>Fixation point Y</th>\n",
       "      <th>Fixation point X (MCSnorm)</th>\n",
       "      <th>Fixation point Y (MCSnorm)</th>\n",
       "      <th>Mouse position X</th>\n",
       "      <th>Mouse position Y</th>\n",
       "    </tr>\n",
       "  </thead>\n",
       "  <tbody>\n",
       "    <tr>\n",
       "      <th>45467</th>\n",
       "      <td>0</td>\n",
       "      <td>148068507108</td>\n",
       "      <td>NaN</td>\n",
       "      <td>16-11-2022</td>\n",
       "      <td>Participant1</td>\n",
       "      <td>30 - 40</td>\n",
       "      <td>No</td>\n",
       "      <td>Female</td>\n",
       "      <td>Recording11</td>\n",
       "      <td>02-11-2022</td>\n",
       "      <td>...</td>\n",
       "      <td>NaN</td>\n",
       "      <td>NaN</td>\n",
       "      <td>NaN</td>\n",
       "      <td>NaN</td>\n",
       "      <td>NaN</td>\n",
       "      <td>NaN</td>\n",
       "      <td>NaN</td>\n",
       "      <td>NaN</td>\n",
       "      <td>NaN</td>\n",
       "      <td>NaN</td>\n",
       "    </tr>\n",
       "    <tr>\n",
       "      <th>45468</th>\n",
       "      <td>99933</td>\n",
       "      <td>148068607041</td>\n",
       "      <td>Eye Tracker</td>\n",
       "      <td>16-11-2022</td>\n",
       "      <td>Participant1</td>\n",
       "      <td>30 - 40</td>\n",
       "      <td>No</td>\n",
       "      <td>Female</td>\n",
       "      <td>Recording11</td>\n",
       "      <td>02-11-2022</td>\n",
       "      <td>...</td>\n",
       "      <td>NaN</td>\n",
       "      <td>EyesNotFound</td>\n",
       "      <td>714.0</td>\n",
       "      <td>1.0</td>\n",
       "      <td>NaN</td>\n",
       "      <td>NaN</td>\n",
       "      <td>NaN</td>\n",
       "      <td>NaN</td>\n",
       "      <td>NaN</td>\n",
       "      <td>NaN</td>\n",
       "    </tr>\n",
       "    <tr>\n",
       "      <th>45469</th>\n",
       "      <td>116588</td>\n",
       "      <td>148068623696</td>\n",
       "      <td>Eye Tracker</td>\n",
       "      <td>16-11-2022</td>\n",
       "      <td>Participant1</td>\n",
       "      <td>30 - 40</td>\n",
       "      <td>No</td>\n",
       "      <td>Female</td>\n",
       "      <td>Recording11</td>\n",
       "      <td>02-11-2022</td>\n",
       "      <td>...</td>\n",
       "      <td>NaN</td>\n",
       "      <td>EyesNotFound</td>\n",
       "      <td>714.0</td>\n",
       "      <td>1.0</td>\n",
       "      <td>NaN</td>\n",
       "      <td>NaN</td>\n",
       "      <td>NaN</td>\n",
       "      <td>NaN</td>\n",
       "      <td>NaN</td>\n",
       "      <td>NaN</td>\n",
       "    </tr>\n",
       "    <tr>\n",
       "      <th>45470</th>\n",
       "      <td>148266</td>\n",
       "      <td>148068655374</td>\n",
       "      <td>Eye Tracker</td>\n",
       "      <td>16-11-2022</td>\n",
       "      <td>Participant1</td>\n",
       "      <td>30 - 40</td>\n",
       "      <td>No</td>\n",
       "      <td>Female</td>\n",
       "      <td>Recording11</td>\n",
       "      <td>02-11-2022</td>\n",
       "      <td>...</td>\n",
       "      <td>NaN</td>\n",
       "      <td>EyesNotFound</td>\n",
       "      <td>714.0</td>\n",
       "      <td>1.0</td>\n",
       "      <td>NaN</td>\n",
       "      <td>NaN</td>\n",
       "      <td>NaN</td>\n",
       "      <td>NaN</td>\n",
       "      <td>NaN</td>\n",
       "      <td>NaN</td>\n",
       "    </tr>\n",
       "    <tr>\n",
       "      <th>45471</th>\n",
       "      <td>164921</td>\n",
       "      <td>148068672029</td>\n",
       "      <td>Eye Tracker</td>\n",
       "      <td>16-11-2022</td>\n",
       "      <td>Participant1</td>\n",
       "      <td>30 - 40</td>\n",
       "      <td>No</td>\n",
       "      <td>Female</td>\n",
       "      <td>Recording11</td>\n",
       "      <td>02-11-2022</td>\n",
       "      <td>...</td>\n",
       "      <td>NaN</td>\n",
       "      <td>EyesNotFound</td>\n",
       "      <td>714.0</td>\n",
       "      <td>1.0</td>\n",
       "      <td>NaN</td>\n",
       "      <td>NaN</td>\n",
       "      <td>NaN</td>\n",
       "      <td>NaN</td>\n",
       "      <td>NaN</td>\n",
       "      <td>NaN</td>\n",
       "    </tr>\n",
       "  </tbody>\n",
       "</table>\n",
       "<p>5 rows × 81 columns</p>\n",
       "</div>"
      ],
      "text/plain": [
       "       Recording timestamp  Computer timestamp       Sensor Export date  \\\n",
       "45467                    0        148068507108          NaN  16-11-2022   \n",
       "45468                99933        148068607041  Eye Tracker  16-11-2022   \n",
       "45469               116588        148068623696  Eye Tracker  16-11-2022   \n",
       "45470               148266        148068655374  Eye Tracker  16-11-2022   \n",
       "45471               164921        148068672029  Eye Tracker  16-11-2022   \n",
       "\n",
       "      Participant name      Age Using Glasses/Contacts?  Gender  \\\n",
       "45467     Participant1  30 - 40                      No  Female   \n",
       "45468     Participant1  30 - 40                      No  Female   \n",
       "45469     Participant1  30 - 40                      No  Female   \n",
       "45470     Participant1  30 - 40                      No  Female   \n",
       "45471     Participant1  30 - 40                      No  Female   \n",
       "\n",
       "      Recording name Recording date UTC  ... Original Media height  \\\n",
       "45467    Recording11         02-11-2022  ...                   NaN   \n",
       "45468    Recording11         02-11-2022  ...                   NaN   \n",
       "45469    Recording11         02-11-2022  ...                   NaN   \n",
       "45470    Recording11         02-11-2022  ...                   NaN   \n",
       "45471    Recording11         02-11-2022  ...                   NaN   \n",
       "\n",
       "       Eye movement type Gaze event duration  Eye movement type index  \\\n",
       "45467                NaN                 NaN                      NaN   \n",
       "45468       EyesNotFound               714.0                      1.0   \n",
       "45469       EyesNotFound               714.0                      1.0   \n",
       "45470       EyesNotFound               714.0                      1.0   \n",
       "45471       EyesNotFound               714.0                      1.0   \n",
       "\n",
       "       Fixation point X Fixation point Y Fixation point X (MCSnorm)  \\\n",
       "45467               NaN              NaN                        NaN   \n",
       "45468               NaN              NaN                        NaN   \n",
       "45469               NaN              NaN                        NaN   \n",
       "45470               NaN              NaN                        NaN   \n",
       "45471               NaN              NaN                        NaN   \n",
       "\n",
       "      Fixation point Y (MCSnorm) Mouse position X Mouse position Y  \n",
       "45467                        NaN              NaN              NaN  \n",
       "45468                        NaN              NaN              NaN  \n",
       "45469                        NaN              NaN              NaN  \n",
       "45470                        NaN              NaN              NaN  \n",
       "45471                        NaN              NaN              NaN  \n",
       "\n",
       "[5 rows x 81 columns]"
      ]
     },
     "metadata": {},
     "output_type": "display_data"
    }
   ],
   "source": [
    "og_file.head(5)"
   ]
  },
  {
   "cell_type": "code",
   "execution_count": null,
   "id": "2403f7b0",
   "metadata": {
    "ExecuteTime": {
     "end_time": "2022-11-23T14:49:42.359003Z",
     "start_time": "2022-11-23T14:49:39.958942Z"
    }
   },
   "outputs": [],
   "source": [
    "# Convert commas (,) to dots (.) to ensure one can convert to float.\n",
    "\n",
    "og_file['Fixation point X (MCSnorm)'] = og_file['Fixation point X (MCSnorm)'].str.replace(\",\",\".\")\n",
    "og_file['Fixation point Y (MCSnorm)'] = og_file['Fixation point Y (MCSnorm)'].str.replace(\",\",\".\")\n",
    "og_file['Gaze point X (MCSnorm)'] = og_file['Gaze point X (MCSnorm)'].str.replace(\",\",\".\")\n",
    "og_file['Gaze point Y (MCSnorm)'] = og_file['Gaze point Y (MCSnorm)'].str.replace(\",\",\".\")"
   ]
  },
  {
   "cell_type": "code",
   "execution_count": null,
   "id": "19511c7b",
   "metadata": {
    "ExecuteTime": {
     "end_time": "2022-11-23T14:49:42.414254Z",
     "start_time": "2022-11-23T14:49:42.360957Z"
    },
    "scrolled": false
   },
   "outputs": [
    {
     "data": {
      "text/plain": [
       "array(['Recording11', 'Recording12', 'Recording13', 'Recording14',\n",
       "       'Recording15', 'Recording16', 'Recording17', 'Recording18',\n",
       "       'Recording19', 'Recording21', 'Recording22', 'Recording23',\n",
       "       'Recording24', 'Recording25', 'Recording26', 'Recording27',\n",
       "       'Recording28', 'Recording29', 'Recording30', 'Recording31',\n",
       "       'Recording32'], dtype=object)"
      ]
     },
     "metadata": {},
     "output_type": "display_data"
    }
   ],
   "source": [
    "og_file[\"Recording name\"].unique()"
   ]
  },
  {
   "cell_type": "code",
   "execution_count": null,
   "id": "9587365b",
   "metadata": {
    "ExecuteTime": {
     "end_time": "2022-11-23T15:04:04.079188Z",
     "start_time": "2022-11-23T15:04:04.012213Z"
    }
   },
   "outputs": [
    {
     "data": {
      "text/plain": [
       "Recording30    79710\n",
       "Recording14    78235\n",
       "Recording16    75674\n",
       "Recording23    62487\n",
       "Recording11    60460\n",
       "Recording21    60459\n",
       "Recording31    60342\n",
       "Recording12    58668\n",
       "Recording32    56792\n",
       "Recording15    54628\n",
       "Recording17    52675\n",
       "Recording24    52208\n",
       "Recording18    51738\n",
       "Recording19    51496\n",
       "Recording29    50202\n",
       "Recording28    48891\n",
       "Recording26    48879\n",
       "Recording27    48116\n",
       "Recording22    46587\n",
       "Recording25    38740\n",
       "Recording13    17607\n",
       "Name: Recording name, dtype: int64"
      ]
     },
     "metadata": {},
     "output_type": "display_data"
    }
   ],
   "source": [
    "og_file[\"Recording name\"].value_counts()"
   ]
  },
  {
   "cell_type": "code",
   "execution_count": null,
   "id": "3e4fa2ec",
   "metadata": {
    "ExecuteTime": {
     "end_time": "2022-11-23T15:04:41.799535Z",
     "start_time": "2022-11-23T15:04:41.734514Z"
    },
    "scrolled": true
   },
   "outputs": [],
   "source": [
    "relevant_recordings = [name for name, count in og_file[\"Recording name\"].value_counts().items() if count > 20000]"
   ]
  },
  {
   "cell_type": "code",
   "execution_count": null,
   "id": "6f8cd79c",
   "metadata": {
    "ExecuteTime": {
     "end_time": "2022-11-23T15:04:44.023535Z",
     "start_time": "2022-11-23T15:04:44.018650Z"
    }
   },
   "outputs": [
    {
     "data": {
      "text/plain": [
       "['Recording30',\n",
       " 'Recording14',\n",
       " 'Recording16',\n",
       " 'Recording23',\n",
       " 'Recording11',\n",
       " 'Recording21',\n",
       " 'Recording31',\n",
       " 'Recording12',\n",
       " 'Recording32',\n",
       " 'Recording15',\n",
       " 'Recording17',\n",
       " 'Recording24',\n",
       " 'Recording18',\n",
       " 'Recording19',\n",
       " 'Recording29',\n",
       " 'Recording28',\n",
       " 'Recording26',\n",
       " 'Recording27',\n",
       " 'Recording22',\n",
       " 'Recording25']"
      ]
     },
     "metadata": {},
     "output_type": "display_data"
    }
   ],
   "source": [
    "relevant_recordings"
   ]
  },
  {
   "cell_type": "code",
   "execution_count": null,
   "id": "a5cb2c17",
   "metadata": {
    "ExecuteTime": {
     "end_time": "2022-11-23T14:49:42.477775Z",
     "start_time": "2022-11-23T14:49:42.415232Z"
    },
    "scrolled": false
   },
   "outputs": [
    {
     "data": {
      "text/plain": [
       "45467       True\n",
       "45468       True\n",
       "45469       True\n",
       "45470       True\n",
       "45471       True\n",
       "           ...  \n",
       "1200056    False\n",
       "1200057    False\n",
       "1200058    False\n",
       "1200059    False\n",
       "1200060    False\n",
       "Name: Recording name, Length: 1154594, dtype: bool"
      ]
     },
     "metadata": {},
     "output_type": "display_data"
    }
   ],
   "source": [
    "dataframe_filter = og_file[\"Recording name\"] == \"Recording11\"\n",
    "dataframe_filter"
   ]
  },
  {
   "cell_type": "code",
   "execution_count": null,
   "id": "71285e0c",
   "metadata": {
    "ExecuteTime": {
     "end_time": "2022-11-23T14:49:43.427064Z",
     "start_time": "2022-11-23T14:49:42.478754Z"
    }
   },
   "outputs": [
    {
     "name": "stdout",
     "output_type": "stream",
     "text": [
      "Recording timestamp\n",
      "Computer timestamp\n",
      "Sensor\n",
      "Export date\n",
      "Participant name\n",
      "Age\n",
      "Using Glasses/Contacts?\n",
      "Gender\n",
      "Recording name\n",
      "Recording date UTC\n",
      "Recording start time UTC\n",
      "Recording duration\n",
      "Recording Fixation filter name\n",
      "Recording resolution height\n",
      "Recording resolution width\n",
      "Recording monitor latency\n",
      "Average calibration accuracy (mm)\n",
      "Average calibration precision SD (mm)\n",
      "Average calibration precision RMS (mm)\n",
      "Average calibration accuracy (degrees)\n",
      "Average calibration precision SD (degrees)\n",
      "Average calibration precision RMS (degrees)\n",
      "Average calibration accuracy (pixels)\n",
      "Average calibration precision SD (pixels)\n",
      "Average calibration precision RMS (pixels)\n",
      "Average validation accuracy (mm)\n",
      "Average validation precision SD (mm)\n",
      "Average validation precision RMS (mm)\n",
      "Average validation accuracy (degrees)\n",
      "Average validation precision SD (degrees)\n",
      "Average validation precision RMS (degrees)\n",
      "Average validation accuracy (pixels)\n",
      "Average validation precision SD (pixels)\n",
      "Average validation precision RMS (pixels)\n",
      "Eyetracker timestamp\n",
      "Event\n",
      "Event value\n",
      "Gaze point X\n",
      "Gaze point Y\n",
      "Gaze point left X\n",
      "Gaze point left Y\n",
      "Gaze point right X\n",
      "Gaze point right Y\n",
      "Gaze direction left X\n",
      "Gaze direction left Y\n",
      "Gaze direction left Z\n",
      "Gaze direction right X\n",
      "Gaze direction right Y\n",
      "Gaze direction right Z\n",
      "Pupil diameter left\n",
      "Pupil diameter right\n",
      "Validity left\n",
      "Validity right\n",
      "Gaze point left X (DACSmm)\n",
      "Gaze point left Y (DACSmm)\n",
      "Gaze point right X (DACSmm)\n",
      "Gaze point right Y (DACSmm)\n",
      "Gaze point X (MCSnorm)\n",
      "Gaze point Y (MCSnorm)\n",
      "Gaze point left X (MCSnorm)\n",
      "Gaze point left Y (MCSnorm)\n",
      "Gaze point right X (MCSnorm)\n",
      "Gaze point right Y (MCSnorm)\n",
      "Presented Stimulus name\n",
      "Size of Change\n",
      "Presented Media name\n",
      "Presented Media width\n",
      "Presented Media height\n",
      "Presented Media position X (DACSpx)\n",
      "Presented Media position Y (DACSpx)\n",
      "Original Media width\n",
      "Original Media height\n",
      "Eye movement type\n",
      "Gaze event duration\n",
      "Eye movement type index\n",
      "Fixation point X\n",
      "Fixation point Y\n",
      "Fixation point X (MCSnorm)\n",
      "Fixation point Y (MCSnorm)\n",
      "Mouse position X\n",
      "Mouse position Y\n"
     ]
    }
   ],
   "source": [
    "for name in og_file[dataframe_filter].columns:\n",
    "    print(name)"
   ]
  },
  {
   "cell_type": "code",
   "execution_count": null,
   "id": "8f476cf0",
   "metadata": {
    "ExecuteTime": {
     "end_time": "2022-11-23T14:49:44.007779Z",
     "start_time": "2022-11-23T14:49:43.983796Z"
    }
   },
   "outputs": [
    {
     "data": {
      "text/plain": [
       "(448.0    622263\n",
       " 0.0      391345\n",
       " Name: Presented Media position X (DACSpx), dtype: int64,\n",
       " 156.0    622263\n",
       " 0.0      391345\n",
       " Name: Presented Media position Y (DACSpx), dtype: int64)"
      ]
     },
     "metadata": {},
     "output_type": "display_data"
    }
   ],
   "source": [
    "og_file[\"Presented Media position X (DACSpx)\"].value_counts(), og_file[\"Presented Media position Y (DACSpx)\"].value_counts()"
   ]
  },
  {
   "cell_type": "code",
   "execution_count": null,
   "id": "3f295113",
   "metadata": {
    "ExecuteTime": {
     "end_time": "2022-11-23T14:49:44.112869Z",
     "start_time": "2022-11-23T14:49:44.008756Z"
    },
    "scrolled": false
   },
   "outputs": [
    {
     "data": {
      "text/html": [
       "<div>\n",
       "<style scoped>\n",
       "    .dataframe tbody tr th:only-of-type {\n",
       "        vertical-align: middle;\n",
       "    }\n",
       "\n",
       "    .dataframe tbody tr th {\n",
       "        vertical-align: top;\n",
       "    }\n",
       "\n",
       "    .dataframe thead th {\n",
       "        text-align: right;\n",
       "    }\n",
       "</style>\n",
       "<table border=\"1\" class=\"dataframe\">\n",
       "  <thead>\n",
       "    <tr style=\"text-align: right;\">\n",
       "      <th></th>\n",
       "      <th>Event</th>\n",
       "      <th>Event value</th>\n",
       "    </tr>\n",
       "  </thead>\n",
       "  <tbody>\n",
       "    <tr>\n",
       "      <th>45467</th>\n",
       "      <td>RecordingStart</td>\n",
       "      <td>NaN</td>\n",
       "    </tr>\n",
       "    <tr>\n",
       "      <th>45520</th>\n",
       "      <td>TextStart</td>\n",
       "      <td>Text (110)</td>\n",
       "    </tr>\n",
       "    <tr>\n",
       "      <th>51473</th>\n",
       "      <td>MouseEvent</td>\n",
       "      <td>Down, Left</td>\n",
       "    </tr>\n",
       "    <tr>\n",
       "      <th>51479</th>\n",
       "      <td>TextEnd</td>\n",
       "      <td>Text (110)</td>\n",
       "    </tr>\n",
       "    <tr>\n",
       "      <th>51480</th>\n",
       "      <td>TextStart</td>\n",
       "      <td>Fixatio</td>\n",
       "    </tr>\n",
       "    <tr>\n",
       "      <th>...</th>\n",
       "      <td>...</td>\n",
       "      <td>...</td>\n",
       "    </tr>\n",
       "    <tr>\n",
       "      <th>104303</th>\n",
       "      <td>TextStart</td>\n",
       "      <td>Text (113)</td>\n",
       "    </tr>\n",
       "    <tr>\n",
       "      <th>104310</th>\n",
       "      <td>MouseEvent</td>\n",
       "      <td>Up, Left</td>\n",
       "    </tr>\n",
       "    <tr>\n",
       "      <th>105920</th>\n",
       "      <td>MouseEvent</td>\n",
       "      <td>Down, Left</td>\n",
       "    </tr>\n",
       "    <tr>\n",
       "      <th>105924</th>\n",
       "      <td>TextEnd</td>\n",
       "      <td>Text (113)</td>\n",
       "    </tr>\n",
       "    <tr>\n",
       "      <th>105926</th>\n",
       "      <td>RecordingEnd</td>\n",
       "      <td>NaN</td>\n",
       "    </tr>\n",
       "  </tbody>\n",
       "</table>\n",
       "<p>1039 rows × 2 columns</p>\n",
       "</div>"
      ],
      "text/plain": [
       "                 Event Event value\n",
       "45467   RecordingStart         NaN\n",
       "45520        TextStart  Text (110)\n",
       "51473       MouseEvent  Down, Left\n",
       "51479          TextEnd  Text (110)\n",
       "51480        TextStart     Fixatio\n",
       "...                ...         ...\n",
       "104303       TextStart  Text (113)\n",
       "104310      MouseEvent    Up, Left\n",
       "105920      MouseEvent  Down, Left\n",
       "105924         TextEnd  Text (113)\n",
       "105926    RecordingEnd         NaN\n",
       "\n",
       "[1039 rows x 2 columns]"
      ]
     },
     "metadata": {},
     "output_type": "display_data"
    }
   ],
   "source": [
    "og_file[dataframe_filter][['Event', 'Event value']][~og_file[dataframe_filter]['Event'].isnull()]\n",
    "# The Events show us what is happening in the experiment. As such we can use this to identify what is going on in the experiment."
   ]
  },
  {
   "cell_type": "code",
   "execution_count": null,
   "id": "03bacfa9",
   "metadata": {
    "ExecuteTime": {
     "end_time": "2022-11-23T07:33:58.122064Z",
     "start_time": "2022-11-23T07:33:58.107061Z"
    }
   },
   "outputs": [
    {
     "data": {
      "text/plain": [
       "45467              0\n",
       "45468          99933\n",
       "45469         116588\n",
       "45470         148266\n",
       "45471         164921\n",
       "             ...    \n",
       "1200056    863918182\n",
       "1200057    863933207\n",
       "1200058    863949862\n",
       "1200059    863954107\n",
       "1200060    864126985\n",
       "Name: Recording timestamp, Length: 1154594, dtype: int64"
      ]
     },
     "metadata": {},
     "output_type": "display_data"
    }
   ],
   "source": [
    "og_file[\"Recording timestamp\"]\n",
    "# The Events show us what is happening in the experiment. As such we can use this to identify what is going on in the experiment."
   ]
  },
  {
   "cell_type": "code",
   "execution_count": null,
   "id": "acb65067",
   "metadata": {
    "ExecuteTime": {
     "end_time": "2022-11-23T07:33:58.672104Z",
     "start_time": "2022-11-23T07:33:58.498052Z"
    }
   },
   "outputs": [
    {
     "data": {
      "text/plain": [
       "0"
      ]
     },
     "metadata": {},
     "output_type": "display_data"
    }
   ],
   "source": [
    "pd.notnull(og_file[og_file[\"Sensor\"] == \"Mouse\"][\"Event\"]).sum()"
   ]
  },
  {
   "cell_type": "code",
   "execution_count": null,
   "id": "04d0a9eb",
   "metadata": {
    "ExecuteTime": {
     "end_time": "2022-11-23T14:49:44.121664Z",
     "start_time": "2022-11-23T14:49:44.114825Z"
    },
    "scrolled": false
   },
   "outputs": [],
   "source": [
    "def get_dict_start_end(recording_name, data):\n",
    "    assert recording_name in set(data[\"Recording name\"]), \"ERROR: Recording name not found in data.\"\n",
    "    dict_with_start_end = dict()\n",
    "    dict_start_end_found = dict()\n",
    "    # We iterate in order, so it's garanteed that we will have the events in order\n",
    "    recording_filter = data[\"Recording name\"] == recording_name\n",
    "    for i,row in data[recording_filter][['Event', 'Event value']][~data[recording_filter]['Event'].isnull()].iterrows():\n",
    "        event_name_og = row['Event value']\n",
    "        if row['Event'] == 'ImageStimulusStart':\n",
    "            for i in range(4):\n",
    "                event_name = event_name_og + f\"_{i}\"\n",
    "                if event_name not in dict_with_start_end:\n",
    "                    # If it's not in the event\n",
    "                    break\n",
    "            dict_with_start_end[event_name] = [row.name]\n",
    "            dict_start_end_found[event_name] = False\n",
    "        elif row['Event'] == 'ImageStimulusEnd':\n",
    "            for i in range(4):\n",
    "                event_name = event_name_og + f\"_{i}\"\n",
    "                if not dict_start_end_found[event_name]:\n",
    "                    # If it's not in the event\n",
    "                    dict_start_end_found[event_name] = True\n",
    "                    break\n",
    "            dict_with_start_end[event_name].append(row.name)\n",
    "    return dict_with_start_end\n"
   ]
  },
  {
   "cell_type": "code",
   "execution_count": null,
   "id": "6645c52f",
   "metadata": {
    "ExecuteTime": {
     "end_time": "2022-11-23T14:49:44.133391Z",
     "start_time": "2022-11-23T14:49:44.122641Z"
    },
    "scrolled": false
   },
   "outputs": [],
   "source": [
    "def get_dict_mouse_clicks(dict_start_end, data):\n",
    "    dict_mouse_clicks = dict()\n",
    "    for key, (start,end) in dict_start_end.items():\n",
    "        subset_data = data.loc[start:end]\n",
    "        if (subset_data[\"Event\"] == \"MouseEvent\").any():\n",
    "            # There is a mouse event\n",
    "            mouse_click_i = subset_data[subset_data[\"Event\"] == \"MouseEvent\"].index[0]\n",
    "            after_mouse_click_subset = subset_data.loc[mouse_click_i:]\n",
    "            after_mouse_click_subset = after_mouse_click_subset[after_mouse_click_subset[\"Sensor\"] == \"Mouse\"]\n",
    "            c_time, time, mX, mY = after_mouse_click_subset[[\"Computer timestamp\", \"Recording timestamp\",\"Mouse position X\", \"Mouse position Y\"]].iloc[0]\n",
    "            dict_mouse_clicks[key] = (c_time, time, mX, mY)\n",
    "    return dict_mouse_clicks"
   ]
  },
  {
   "cell_type": "code",
   "execution_count": null,
   "id": "08ab5370",
   "metadata": {
    "ExecuteTime": {
     "end_time": "2022-11-23T15:13:46.110249Z",
     "start_time": "2022-11-23T15:13:46.104387Z"
    }
   },
   "outputs": [],
   "source": [
    "def get_dict_fixation(dict_start_end, data):\n",
    "    dict_fix_data = dict()\n",
    "    for key, (start,end) in dict_start_end.items():\n",
    "        fixation_data = data.loc[start:end,[\"Computer timestamp\", \"Recording timestamp\",  'Eye movement type', 'Eye movement type index','Gaze event duration', 'Fixation point X', 'Fixation point Y']]\n",
    "        fixation_indexes = fixation_data[fixation_data[\"Eye movement type\"] == \"Fixation\"][\"Eye movement type index\"].unique()\n",
    "        if fixation_indexes.any():\n",
    "            fix_list = []\n",
    "            for i in fixation_indexes:\n",
    "                first_row = fixation_data[fixation_data[\"Eye movement type index\"]==i].min()\n",
    "                c_time, time, _, _, duration, fX, fY = first_row\n",
    "                fix_list.append([c_time, time, duration, fX, fY])\n",
    "            dict_fix_data[key] = fix_list\n",
    "    return dict_fix_data"
   ]
  },
  {
   "cell_type": "code",
   "execution_count": null,
   "id": "86d3336f",
   "metadata": {
    "ExecuteTime": {
     "end_time": "2022-11-23T14:50:01.390705Z",
     "start_time": "2022-11-23T14:50:01.117456Z"
    }
   },
   "outputs": [],
   "source": [
    "# Visualising the data for the first \"real trial\"\n",
    "rec_11_dict = get_dict_start_end(\"Recording14\",og_file)\n",
    "start, end = rec_11_dict[list(rec_11_dict.keys())[14]]"
   ]
  },
  {
   "cell_type": "code",
   "execution_count": null,
   "id": "585ba9ac",
   "metadata": {
    "ExecuteTime": {
     "end_time": "2022-11-23T14:50:01.403409Z",
     "start_time": "2022-11-23T14:50:01.391682Z"
    }
   },
   "outputs": [
    {
     "ename": "NameError",
     "evalue": "name 'fixation_data' is not defined",
     "output_type": "error",
     "traceback": [
      "\u001b[1;31m---------------------------------------------------------------------------\u001b[0m\n",
      "\u001b[1;31mNameError\u001b[0m                                 Traceback (most recent call last)\n",
      "\u001b[1;32m~\\AppData\\Local\\Temp/ipykernel_12596/2123103393.py\u001b[0m in \u001b[0;36m<module>\u001b[1;34m\u001b[0m\n",
      "\u001b[1;32m----> 1\u001b[1;33m \u001b[0mfixation_data\u001b[0m\u001b[1;33m[\u001b[0m\u001b[0mfixation_data\u001b[0m\u001b[1;33m[\u001b[0m\u001b[1;34m\"Eye movement type index\"\u001b[0m\u001b[1;33m]\u001b[0m \u001b[1;33m==\u001b[0m \u001b[1;36m841\u001b[0m\u001b[1;33m]\u001b[0m\u001b[1;33m\u001b[0m\u001b[1;33m\u001b[0m\u001b[0m\n",
      "\u001b[0m\n",
      "\u001b[1;31mNameError\u001b[0m: name 'fixation_data' is not defined"
     ]
    }
   ],
   "source": [
    "fixation_data[fixation_data[\"Eye movement type index\"] == 841]"
   ]
  },
  {
   "cell_type": "code",
   "execution_count": null,
   "id": "8316d777",
   "metadata": {
    "ExecuteTime": {
     "end_time": "2022-11-23T14:50:01.950921Z",
     "start_time": "2022-11-23T14:50:01.493871Z"
    },
    "scrolled": true
   },
   "outputs": [
    {
     "data": {
      "text/plain": [
       "<AxesSubplot: >"
      ]
     },
     "metadata": {},
     "output_type": "display_data"
    },
    {
     "data": {
      "image/png": "[encoded data removed]",
      "text/plain": [
       "<Figure size 640x480 with 1 Axes>"
      ]
     },
     "metadata": {},
     "output_type": "display_data"
    }
   ],
   "source": [
    "og_file.loc[start:end][['Gaze point X', 'Gaze point Y']].plot()"
   ]
  },
  {
   "cell_type": "code",
   "execution_count": null,
   "id": "f9045462",
   "metadata": {
    "ExecuteTime": {
     "end_time": "2022-11-23T14:50:02.075555Z",
     "start_time": "2022-11-23T14:50:01.951899Z"
    }
   },
   "outputs": [
    {
     "data": {
      "text/plain": [
       "<AxesSubplot:>"
      ]
     },
     "metadata": {},
     "output_type": "display_data"
    },
    {
     "data": {
      "image/png": "[encoded data removed]",
      "text/plain": [
       "<Figure size 432x288 with 1 Axes>"
      ]
     },
     "metadata": {},
     "output_type": "display_data"
    }
   ],
   "source": [
    "og_file.loc[start:end,['Fixation point X', 'Fixation point Y']].plot()"
   ]
  },
  {
   "cell_type": "code",
   "execution_count": null,
   "id": "0f1ca5f8",
   "metadata": {
    "ExecuteTime": {
     "end_time": "2022-11-23T14:50:02.117576Z",
     "start_time": "2022-11-23T14:50:02.113665Z"
    }
   },
   "outputs": [],
   "source": [
    "import matplotlib.pyplot as plt\n",
    "import matplotlib.patches as patches\n",
    "from PIL import Image"
   ]
  },
  {
   "cell_type": "code",
   "execution_count": null,
   "id": "ab137a15",
   "metadata": {
    "ExecuteTime": {
     "end_time": "2022-11-23T14:50:02.293555Z",
     "start_time": "2022-11-23T14:50:02.288668Z"
    }
   },
   "outputs": [],
   "source": [
    "def get_img_name_from_trial(trial_name):\n",
    "    is_already_trial_name = False\n",
    "    try:\n",
    "        int(trial_name[-1])\n",
    "    except:\n",
    "        is_already_trial_name = True\n",
    "    if is_already_trial_name:\n",
    "        return trial_name\n",
    "    # Filters the added strings    \n",
    "    img_name = trial_name[:-2] # Remove the added substring from the dict_start_end\n",
    "    img_name = img_name.replace(\" - Kopi\", \"\") # Remove in case of copy\n",
    "    img_name = img_name.replace(\" (1)\", \"\") # Remove in case of renamed\n",
    "    return img_name"
   ]
  },
  {
   "cell_type": "code",
   "execution_count": null,
   "id": "2bd068fb",
   "metadata": {
    "ExecuteTime": {
     "end_time": "2022-11-23T14:50:02.484195Z",
     "start_time": "2022-11-23T14:50:02.478334Z"
    }
   },
   "outputs": [],
   "source": [
    "def get_mask_name(trial_name):\n",
    "    img_name = get_img_name_from_trial(trial_name)\n",
    "    mask_name = \"\"\n",
    "    for file in os.listdir(os.path.join(DATASET_DIR, \"Masks\")):\n",
    "        if \".png\" in file:\n",
    "            file_n, file_side = file.split(\"_\")[:2]\n",
    "            img_n, img_side = img_name.split(\"_\")[:2]\n",
    "            if (int(file_n) == int(img_n) and \n",
    "               file_side == img_side):\n",
    "                mask_name = file\n",
    "                break\n",
    "    return mask_name"
   ]
  },
  {
   "cell_type": "code",
   "execution_count": null,
   "id": "9a5d1164",
   "metadata": {
    "ExecuteTime": {
     "end_time": "2022-11-23T14:50:02.738880Z",
     "start_time": "2022-11-23T14:50:02.727602Z"
    }
   },
   "outputs": [],
   "source": [
    "def plot_data_for_trial(trial_name, start, end, data):\n",
    "    # Get the points nomalized (0-1)\n",
    "    fixation_points = data.loc[start:end,['Fixation point X (MCSnorm)', 'Fixation point Y (MCSnorm)']].to_numpy(dtype=float)\n",
    "    fixation_points = fixation_points[~np.isnan(fixation_points[:,0]),:]\n",
    "    plot_points = data.loc[start:end,['Gaze point X (MCSnorm)', 'Gaze point Y (MCSnorm)']].to_numpy(dtype=float)\n",
    "    plot_points = plot_points[~np.isnan(plot_points[:,0]),:]\n",
    "    # Scale to image size:\n",
    "    plot_points[:,0] = plot_points[:,0] * 1024 # Image X\n",
    "    plot_points[:,1] = plot_points[:,1] * 768 # Image Y\n",
    "    fixation_points[:,0] = fixation_points[:,0] * 1024\n",
    "    fixation_points[:,1] = fixation_points[:,1] * 768\n",
    "    img_name = get_img_name_from_trial(trial_name)\n",
    "    mask_name = get_mask_name(trial_name)\n",
    "    img = plt.imread(os.path.join(DATASET_DIR, \"Images\", f\"{img_name}.jpg\"))\n",
    "    img_mask =  plt.imread(os.path.join(DATASET_DIR, \"Masks\", mask_name), format=\"png\")\n",
    "    mask_array = np.zeros(img_mask.shape[:2],dtype=bool)\n",
    "    mask_array[img_mask.mean(axis=2) < 0.5] = True\n",
    "    gaze_in_mask = np.zeros(len(plot_points), dtype=bool)\n",
    "    fix_in_mask = np.zeros(len(fixation_points), dtype=bool)\n",
    "    for i, point in enumerate(plot_points):\n",
    "        if pd.isnull(point[0]):\n",
    "            continue\n",
    "        else:\n",
    "            if mask_array[int(point[1]),int(point[0])]:\n",
    "                gaze_in_mask[i] = True\n",
    "    for i, point in enumerate(fixation_points):\n",
    "        if pd.isnull(point[0]):\n",
    "            continue\n",
    "        else:\n",
    "            if mask_array[int(point[1]),int(point[0])]:\n",
    "                fix_in_mask[i] = True\n",
    "    fig, ax = plt.subplots()\n",
    "    ax.imshow(img)\n",
    "    ax.imshow(mask_array, alpha=0.3)\n",
    "    ax.scatter(plot_points[gaze_in_mask,0], plot_points[gaze_in_mask,1], c=\"r\", alpha=0.5, label=\"Gaze Points in mask\")\n",
    "    ax.scatter(plot_points[~gaze_in_mask,0], plot_points[~gaze_in_mask,1], c=\"b\", alpha=0.5, label=\"Gaze Points not in mask\")\n",
    "    ax.scatter(fixation_points[fix_in_mask,0], fixation_points[fix_in_mask,1], c=\"green\", s=20, label=\"Fixation Points in mask\")\n",
    "    ax.scatter(fixation_points[~fix_in_mask,0], fixation_points[~fix_in_mask,1], c=\"orange\", s=20, label=\"Fixation Points not in mask\")\n",
    "    ax.legend()\n",
    "    plt.plot()\n"
   ]
  },
  {
   "cell_type": "code",
   "execution_count": null,
   "id": "7b4c9331",
   "metadata": {
    "ExecuteTime": {
     "end_time": "2022-11-23T14:50:02.893809Z",
     "start_time": "2022-11-23T14:50:02.889900Z"
    }
   },
   "outputs": [],
   "source": [
    "def load_mask(path):\n",
    "    img = Image.open(path).convert('L')\n",
    "    img = ~np.array(img,dtype=bool)\n",
    "    return img"
   ]
  },
  {
   "cell_type": "code",
   "execution_count": null,
   "id": "9c5ef3e3",
   "metadata": {
    "ExecuteTime": {
     "end_time": "2022-11-23T15:50:19.917436Z",
     "start_time": "2022-11-23T15:50:19.912552Z"
    }
   },
   "outputs": [],
   "source": [
    "TOLERANCE_IN_MASK = 30\n",
    "def is_in_mask(x, y, mask, tolerance=TOLERANCE_IN_MASK):\n",
    "    for x_t in range(x-tolerance, x+tolerance+1):\n",
    "        for y_t in range(y-tolerance, y+tolerance+1):\n",
    "            if point_in_image(x_t,y_t):\n",
    "                if mask[y_t,x_t]:\n",
    "                    return True\n",
    "    return False"
   ]
  },
  {
   "cell_type": "code",
   "execution_count": null,
   "id": "01043cdb",
   "metadata": {
    "ExecuteTime": {
     "end_time": "2022-11-23T15:50:20.114906Z",
     "start_time": "2022-11-23T15:50:20.110999Z"
    }
   },
   "outputs": [],
   "source": [
    "def point_in_image(x,y):\n",
    "    # For point to be in image 0 <= x <= 1024\n",
    "    # and 0 <= y <= 768\n",
    "    return (x >= 0 and x < 1024) and (y >= 0 and y < 768)"
   ]
  },
  {
   "cell_type": "code",
   "execution_count": null,
   "id": "e6c14075",
   "metadata": {
    "ExecuteTime": {
     "end_time": "2022-11-23T15:50:20.835853Z",
     "start_time": "2022-11-23T15:50:20.816309Z"
    }
   },
   "outputs": [],
   "source": [
    "def create_processed_dataframe(recording_name, data):\n",
    "\n",
    "    \"\"\"\n",
    "        Takes a dataframe of raw data from Tobii and produces a dataframe for a recording which only includes:\n",
    "        - For each stimuli (if any):\n",
    "            - Fixation (time, duration, n, fX, fY)\n",
    "            - MouseClick (time, mX, mY)\n",
    "    \"\"\"\n",
    "    name = data[data[\"Recording name\"] == recording_name].iloc[0][\"Participant name\"]\n",
    "    data_dict_format = {\n",
    "        \"Computer_time\": np.NaN,\n",
    "        \"Event_time\":np.NaN,\n",
    "        \"Participant\":name,\n",
    "        \"Recording\":recording_name,\n",
    "        \"Stimulus_name\" : np.NaN,\n",
    "        \"Image_n\": np.NaN,\n",
    "        \"Repetition_n\": np.NaN,\n",
    "        \"Stimulus_n\": np.NaN,\n",
    "        \"Event_type\": np.NaN,\n",
    "        \"Mouse_X\": np.NaN,\n",
    "        \"Mouse_Y\": np.NaN,\n",
    "        \"Mouse_X'\": np.NaN,\n",
    "        \"Mouse_Y'\": np.NaN,\n",
    "        \"Mouse_Confirm_Trial\": False,\n",
    "        \"Mouse_in_Image\": False,\n",
    "        \"Mouse_in_Mask\": False,\n",
    "        \"Response_time\": np.NaN,\n",
    "        \"Fixation_N\": np.NaN,\n",
    "        \"Fixation_X\": np.NaN,\n",
    "        \"Fixation_Y\": np.NaN,\n",
    "        \"Fixation_X'\": np.NaN,\n",
    "        \"Fixation_Y'\": np.NaN,\n",
    "        \"Fixation_in_Image\": False,\n",
    "        \"Fixation_in_Mask\": False,\n",
    "        \"Fixation_duration\": np.NaN\n",
    "    }\n",
    "    \n",
    "    dict_start_end = get_dict_start_end(recording_name, data)\n",
    "    dict_fix = get_dict_fixation(dict_start_end, data)\n",
    "    dict_mouse =  get_dict_mouse_clicks(dict_start_end, data)\n",
    "    \n",
    "    list_for_df = []\n",
    "    last_repetion_n = -1\n",
    "    mouse_trial = set()\n",
    "    dict_masks = {}\n",
    "    for stimulus, (start, end) in dict_start_end.items():\n",
    "        repetition_n = int(stimulus[-1])\n",
    "        new_row = data_dict_format.copy()\n",
    "        if last_repetion_n > repetition_n:\n",
    "            new_row[\"Mouse_Confirm_Trial\"] = True\n",
    "            mouse_trial.add(stimulus)\n",
    "        name = get_img_name_from_trial(stimulus)\n",
    "        img_n = int(name.split(\"_\")[0])\n",
    "        new_row[\"Computer_time\"] = data.loc[start,\"Computer timestamp\"]\n",
    "        new_row[\"Image_n\"] = img_n\n",
    "        new_row[\"Event_time\"] = data.loc[start,\"Recording timestamp\"]\n",
    "        new_row[\"Stimulus_name\"] = name\n",
    "        new_row[\"Repetition_n\"] = repetition_n\n",
    "        new_row[\"Event_type\"] = \"TrialStart\"\n",
    "        list_for_df.append(new_row)\n",
    "        new_row = data_dict_format.copy()\n",
    "        if stimulus in mouse_trial:\n",
    "            new_row[\"Mouse_Confirm_Trial\"] = True\n",
    "        name = get_img_name_from_trial(stimulus)\n",
    "        img_n = int(name.split(\"_\")[0])\n",
    "        new_row[\"Computer_time\"] = data.loc[end,\"Computer timestamp\"]\n",
    "        new_row[\"Image_n\"] = img_n\n",
    "        new_row[\"Event_time\"] = data.loc[end,\"Recording timestamp\"]\n",
    "        new_row[\"Stimulus_name\"] = name\n",
    "        new_row[\"Repetition_n\"] = repetition_n\n",
    "        new_row[\"Event_type\"] = \"TrialEnd\"\n",
    "        last_repetion_n = repetition_n\n",
    "        list_for_df.append(new_row)\n",
    "        \n",
    "    for stimulus, fixations in dict_fix.items():\n",
    "        for fi, fixation in enumerate(fixations):\n",
    "            c_time, time, duration, fX, fY = fixation\n",
    "            repetition_n = int(stimulus[-1])\n",
    "            name = get_img_name_from_trial(stimulus)\n",
    "            img_n = int(name.split(\"_\")[0])\n",
    "            new_row = data_dict_format.copy()\n",
    "            new_row[\"Computer_time\"] = c_time\n",
    "            new_row[\"Event_time\"] = time\n",
    "            new_row[\"Stimulus_name\"] = name\n",
    "            new_row[\"Image_n\"] = img_n\n",
    "            new_row[\"Repetition_n\"] = repetition_n\n",
    "            new_row[\"Fixation_duration\"] = duration\n",
    "            new_row[\"Fixation_N\"] = fi\n",
    "            new_row[\"Fixation_X\"] = fX\n",
    "            new_row[\"Fixation_Y\"] = fY\n",
    "            new_row[\"Fixation_X'\"] = fX - 448\n",
    "            new_row[\"Fixation_Y'\"] = fY - 156\n",
    "            if \"practice\" not in name:\n",
    "                mask_name = get_mask_name(name)\n",
    "                if mask_name not in dict_masks:\n",
    "                    dict_masks[mask_name] = load_mask(os.path.join(DATASET_DIR, \"Masks\", mask_name))\n",
    "                img_mask =  dict_masks[mask_name]\n",
    "                int_x, int_y = int(new_row[\"Fixation_X'\"]), int(new_row[\"Fixation_Y'\"])\n",
    "                if point_in_image(int_x, int_y):\n",
    "                    new_row[\"Fixation_in_Image\"] = True\n",
    "                    if is_in_mask(int_x, int_y, img_mask):\n",
    "                        new_row[\"Fixation_in_Mask\"] = True\n",
    "            new_row[\"Event_type\"] = \"Fixation\"\n",
    "            if stimulus in mouse_trial:\n",
    "                new_row[\"Mouse_Confirm_Trial\"] = True\n",
    "            list_for_df.append(new_row)\n",
    "    \n",
    "    for stimulus, values in dict_mouse.items():\n",
    "        (c_time, time, mX, mY) = values\n",
    "        repetition_n = int(stimulus[-1])\n",
    "        name = get_img_name_from_trial(stimulus)\n",
    "        img_n = int(name.split(\"_\")[0])\n",
    "        new_row = data_dict_format.copy()\n",
    "        new_row[\"Computer_time\"] = c_time\n",
    "        new_row[\"Event_time\"] = time\n",
    "        new_row[\"Image_n\"] = img_n\n",
    "        new_row[\"Stimulus_name\"] = name\n",
    "        new_row[\"Repetition_n\"] = repetition_n\n",
    "        new_row[\"Mouse_X\"] = mX\n",
    "        new_row[\"Mouse_Y\"] = mY\n",
    "        new_row[\"Mouse_X'\"] = mX - 448\n",
    "        new_row[\"Mouse_Y'\"] = mY - 156\n",
    "        if \"practice\" not in name:\n",
    "            mask_name = get_mask_name(name)\n",
    "            img_mask =  dict_masks[mask_name]\n",
    "            int_x, int_y = int(new_row[\"Mouse_X'\"]), int(new_row[\"Mouse_Y'\"])\n",
    "            if point_in_image(int_x, int_y):\n",
    "                new_row[\"Mouse_in_Image\"] = True\n",
    "                if is_in_mask(int_x, int_y, img_mask):\n",
    "                    new_row[\"Mouse_in_Mask\"] = True\n",
    "            new_row[\"Event_type\"] = \"MouseClick\"\n",
    "        if stimulus in mouse_trial:\n",
    "            new_row[\"Mouse_Confirm_Trial\"] = True\n",
    "        list_for_df.append(new_row)\n",
    "    \n",
    "    df = pd.DataFrame(list_for_df)\n",
    "    for stimulus_n, img_n in enumerate(df.Image_n.unique()):\n",
    "        df.loc[df.Image_n == img_n,\"Stimulus_n\"] = stimulus_n\n",
    "    df[\"Stimulus_n\"] = df[\"Stimulus_n\"].apply(int)\n",
    "    df = df.sort_values(\"Computer_time\")\n",
    "    for stimulus_n, img_n in enumerate(df.Image_n.unique()):\n",
    "        stimulus_data_mask = df.Image_n == img_n\n",
    "        trial_start_mask = df.Event_type == \"TrialStart\"\n",
    "        r_mask = df.Repetition_n == 0\n",
    "        not_confirm_trial_mask = df.Mouse_Confirm_Trial == False\n",
    "        is_mouse_click_mask = df[\"Event_type\"] == \"MouseClick\"\n",
    "        # To find the start mask we want:\n",
    "        # The stimulus data AND is TrialStart event AND is repetition 0 AND is not the confirm trial\n",
    "        start_time_mask = stimulus_data_mask & trial_start_mask & r_mask & not_confirm_trial_mask\n",
    "        start_time = df[start_time_mask].iloc[0][\"Event_time\"]\n",
    "        \n",
    "        # To find the response time mask we want:\n",
    "        # The stimulus data AND is not the confirm trial AND the event is a mouse_click\n",
    "        combine_mask = stimulus_data_mask & not_confirm_trial_mask & is_mouse_click_mask\n",
    "        if (combine_mask).any():\n",
    "            df.loc[combine_mask,\"Response_time\"] = df.loc[combine_mask,\"Event_time\"] - start_time\n",
    "    df = df.reset_index()\n",
    "    df = df.drop(\"index\",axis=1)\n",
    "    return df"
   ]
  },
  {
   "cell_type": "code",
   "execution_count": null,
   "id": "bad51da1",
   "metadata": {
    "ExecuteTime": {
     "end_time": "2022-11-23T15:50:23.721160Z",
     "start_time": "2022-11-23T15:50:20.844646Z"
    },
    "scrolled": true
   },
   "outputs": [
    {
     "data": {
      "text/plain": [
       "8190411.0     1\n",
       "7843248.0     1\n",
       "4930706.0     1\n",
       "7738373.0     1\n",
       "3159120.0     1\n",
       "9876538.0     1\n",
       "9431563.0     1\n",
       "3417026.0     1\n",
       "10025325.0    1\n",
       "9391746.0     1\n",
       "5217836.0     1\n",
       "5796026.0     1\n",
       "9746103.0     1\n",
       "7666729.0     1\n",
       "7583763.0     1\n",
       "10035587.0    1\n",
       "Name: Response_time, dtype: int64"
      ]
     },
     "metadata": {},
     "output_type": "display_data"
    }
   ],
   "source": [
    "test = create_processed_dataframe(\"Recording31\", og_file)\n",
    "test.Response_time.value_counts()"
   ]
  },
  {
   "cell_type": "code",
   "execution_count": null,
   "id": "8e06b877",
   "metadata": {
    "ExecuteTime": {
     "end_time": "2022-11-23T15:50:23.734840Z",
     "start_time": "2022-11-23T15:50:23.722137Z"
    }
   },
   "outputs": [
    {
     "data": {
      "text/plain": [
       "448.0    622263\n",
       "0.0      391345\n",
       "Name: Presented Media position X (DACSpx), dtype: int64"
      ]
     },
     "metadata": {},
     "output_type": "display_data"
    }
   ],
   "source": [
    "og_file[\"Presented Media position X (DACSpx)\"].value_counts()"
   ]
  },
  {
   "cell_type": "code",
   "execution_count": null,
   "id": "e4dc7a28",
   "metadata": {
    "ExecuteTime": {
     "end_time": "2022-11-23T15:50:23.753406Z",
     "start_time": "2022-11-23T15:50:23.735817Z"
    }
   },
   "outputs": [
    {
     "data": {
      "text/plain": [
       "156.0    622263\n",
       "0.0      391345\n",
       "Name: Presented Media position Y (DACSpx), dtype: int64"
      ]
     },
     "metadata": {},
     "output_type": "display_data"
    }
   ],
   "source": [
    "og_file[\"Presented Media position Y (DACSpx)\"].value_counts()"
   ]
  },
  {
   "cell_type": "code",
   "execution_count": null,
   "id": "7110b9a1",
   "metadata": {
    "ExecuteTime": {
     "end_time": "2022-11-23T15:50:23.769040Z",
     "start_time": "2022-11-23T15:50:23.755360Z"
    }
   },
   "outputs": [],
   "source": [
    "def plot_data_from_recording_df(recording_df, trial_name, repetition_n):\n",
    "    stimulus_mask = (recording_df[\"Stimulus_name\"] == trial_name).to_numpy(dtype=bool)\n",
    "    repetition_mask = (recording_df[\"Repetition_n\"] == repetition_n).to_numpy(dtype=bool)\n",
    "    select_data = stimulus_mask & repetition_mask\n",
    "    trial_data = recording_df.iloc[select_data,:]\n",
    "    fixation_points = trial_data[trial_data.Event_type == \"Fixation\"].loc[:,[\"Fixation_X\",\"Fixation_Y\"]].to_numpy(dtype=int)\n",
    "    mouse_points = trial_data[trial_data.Event_type == \"MouseClick\"].loc[:,[\"Mouse_X\",\"Mouse_Y\"]].to_numpy(dtype=int)\n",
    "\n",
    "    # These values are always the same, they are taken by checking the\n",
    "    # presented media positions\n",
    "    fixation_points[:,0] = fixation_points[:,0] - 448\n",
    "    fixation_points[:,1] = fixation_points[:,1] - 156\n",
    "    img_name = trial_name\n",
    "    if \"practice\" in img_name:\n",
    "        print(\"Error: Practice images have no mask.\")\n",
    "        return\n",
    "    x_outside_image = fixation_points[:,0] <= 1024\n",
    "    y_outside_image = fixation_points[:,1] <= 728\n",
    "    # Remove points outside the image\n",
    "    fixation_points = fixation_points[x_outside_image & y_outside_image]\n",
    "    \n",
    "    mask_name = get_mask_name(trial_name)\n",
    "    img = plt.imread(os.path.join(DATASET_DIR, \"Images\", f\"{img_name}.jpg\"))\n",
    "    img_mask =  load_mask(os.path.join(DATASET_DIR, \"Masks\", mask_name))\n",
    "    fix_in_mask = np.zeros(len(fixation_points), dtype=bool)\n",
    "    \n",
    "    for i, point in enumerate(fixation_points):\n",
    "        if pd.isnull(point[0]):\n",
    "            continue\n",
    "        else:\n",
    "            if is_in_mask(int(point[0]), int(point[1]), img_mask):\n",
    "                fix_in_mask[i] = True\n",
    "    \n",
    "    fig, ax = plt.subplots()\n",
    "    ax.imshow(img)\n",
    "    ax.imshow(img_mask, alpha=0.3)\n",
    "    ax.scatter(fixation_points[fix_in_mask,0], fixation_points[fix_in_mask,1], c=\"green\", s=20, label=\"Fixation Points in mask\")\n",
    "    ax.scatter(fixation_points[~fix_in_mask,0], fixation_points[~fix_in_mask,1], c=\"orange\", s=20, label=\"Fixation Points not in mask\")\n",
    "    if len(mouse_points > 0):\n",
    "        mouse_points[:,0] = mouse_points[:,0] - 448\n",
    "        mouse_points[:,1] = mouse_points[:,1] - 156\n",
    "        mouse_click_in_mask = np.zeros(len(mouse_points), dtype=bool)\n",
    "        for i, point in enumerate(mouse_points):\n",
    "            if pd.isnull(point[0]):\n",
    "                continue\n",
    "            else:\n",
    "                try:\n",
    "                    if is_in_mask(int(point[0]), int(point[1]), img_mask):\n",
    "                        mouse_click_in_mask[i] = True\n",
    "                    ax.scatter(mouse_points[mouse_click_in_mask,0], mouse_points[mouse_click_in_mask,1], c=\"red\", s=50, marker=\"x\", label=\"Mouse click in mask\")\n",
    "                    ax.scatter(mouse_points[~mouse_click_in_mask,0], mouse_points[~mouse_click_in_mask,1], c=\"blue\", s=50, marker=\"x\", label=\"Mouse click outside mask\")\n",
    "                except:\n",
    "                    print(\"WARNING: Mouse was clicked outside image area.\", mouse_points)\n",
    "\n",
    "    ax.legend()\n",
    "    plt.plot()\n",
    "    "
   ]
  },
  {
   "cell_type": "code",
   "execution_count": null,
   "id": "1cbbd7c6",
   "metadata": {
    "ExecuteTime": {
     "end_time": "2022-11-23T15:50:34.793784Z",
     "start_time": "2022-11-23T15:50:34.782057Z"
    }
   },
   "outputs": [],
   "source": [
    "def plot_data_from_recording_df_img_n(recording_df, image_n):\n",
    "    stimulus_mask = (recording_df[\"Image_n\"] == image_n).to_numpy(dtype=bool)\n",
    "    select_data = stimulus_mask\n",
    "    trial_data = recording_df.iloc[select_data,:]\n",
    "    fixation_points = trial_data[trial_data.Event_type == \"Fixation\"].loc[:,[\"Fixation_X\",\"Fixation_Y\"]].to_numpy(dtype=int)\n",
    "    mouse_points = trial_data[trial_data.Event_type == \"MouseClick\"].loc[:,[\"Mouse_X\",\"Mouse_Y\"]].to_numpy(dtype=int)\n",
    "    # These values are always the same, they are taken by checking the\n",
    "    # presented media positions\n",
    "    fixation_points[:,0] = fixation_points[:,0] - 448\n",
    "    fixation_points[:,1] = fixation_points[:,1] - 156\n",
    "    trial_name = trial_data[\"Stimulus_name\"].iloc[0]\n",
    "    img_name = trial_name\n",
    "    if \"practice\" in img_name:\n",
    "        print(\"Error: Practice images have no mask.\")\n",
    "        return\n",
    "    x_outside_image = fixation_points[:,0] <= 1024\n",
    "    y_outside_image = fixation_points[:,1] <= 728\n",
    "    # Remove points outside the image\n",
    "    fixation_points = fixation_points[x_outside_image & y_outside_image]\n",
    "    \n",
    "    mask_name = get_mask_name(trial_name)\n",
    "    img = plt.imread(os.path.join(DATASET_DIR, \"Images\", f\"{img_name}.jpg\"))\n",
    "    img_mask =  load_mask(os.path.join(DATASET_DIR, \"Masks\", mask_name))\n",
    "    fix_in_mask = np.zeros(len(fixation_points), dtype=bool)\n",
    "    \n",
    "    for i, point in enumerate(fixation_points):\n",
    "        if pd.isnull(point[0]):\n",
    "            continue\n",
    "        else:\n",
    "            if is_in_mask(int(point[0]), int(point[1]), img_mask):\n",
    "                fix_in_mask[i] = True\n",
    "    \n",
    "    fig, ax = plt.subplots()\n",
    "    ax.imshow(img)\n",
    "    ax.imshow(img_mask, alpha=0.3)\n",
    "    ax.scatter(fixation_points[fix_in_mask,0], fixation_points[fix_in_mask,1], c=\"green\", s=20, label=\"Fixation Points in mask\")\n",
    "    ax.scatter(fixation_points[~fix_in_mask,0], fixation_points[~fix_in_mask,1], c=\"orange\", s=20, label=\"Fixation Points not in mask\")\n",
    "    if len(mouse_points > 0):\n",
    "        mouse_points[:,0] = mouse_points[:,0] - 448\n",
    "        mouse_points[:,1] = mouse_points[:,1] - 156\n",
    "        mouse_click_in_mask = np.zeros(len(mouse_points), dtype=bool)\n",
    "        for i, point in enumerate(mouse_points):\n",
    "            if pd.isnull(point[0]):\n",
    "                continue\n",
    "            else:\n",
    "                try:\n",
    "                    if is_in_mask(int(point[0]), int(point[1]), img_mask):\n",
    "                        mouse_click_in_mask[i] = True\n",
    "                    ax.scatter(mouse_points[mouse_click_in_mask,0], mouse_points[mouse_click_in_mask,1], c=\"red\", s=50, marker=\"x\", label=\"Mouse click in mask\")\n",
    "                    ax.scatter(mouse_points[~mouse_click_in_mask,0], mouse_points[~mouse_click_in_mask,1], c=\"blue\", s=50, marker=\"x\", label=\"Mouse click outside mask\")\n",
    "                except:\n",
    "                    print(\"WARNING: Mouse was clicked outside image area.\", mouse_points)\n",
    "\n",
    "    ax.legend()\n",
    "    plt.plot()\n",
    "    "
   ]
  },
  {
   "cell_type": "code",
   "execution_count": null,
   "id": "12a3aab3",
   "metadata": {
    "ExecuteTime": {
     "end_time": "2022-11-23T15:50:35.040642Z",
     "start_time": "2022-11-23T15:50:35.035756Z"
    }
   },
   "outputs": [
    {
     "data": {
      "text/plain": [
       "'01_practice_absent_plant'"
      ]
     },
     "metadata": {},
     "output_type": "display_data"
    }
   ],
   "source": [
    "get_img_name_from_trial(\"01_practice_absent_plant\")"
   ]
  },
  {
   "cell_type": "code",
   "execution_count": null,
   "id": "1607589a",
   "metadata": {
    "ExecuteTime": {
     "end_time": "2022-11-23T15:50:35.678983Z",
     "start_time": "2022-11-23T15:50:35.237137Z"
    },
    "scrolled": true
   },
   "outputs": [
    {
     "data": {
      "image/png": "[encoded data removed]",
      "text/plain": [
       "<Figure size 432x288 with 1 Axes>"
      ]
     },
     "metadata": {},
     "output_type": "display_data"
    }
   ],
   "source": [
    "plot_data_from_recording_df(test, \"097_L_mirrorONLY_in_light\", 0)"
   ]
  },
  {
   "cell_type": "code",
   "execution_count": null,
   "id": "582debf2",
   "metadata": {
    "ExecuteTime": {
     "end_time": "2022-11-23T15:50:36.125270Z",
     "start_time": "2022-11-23T15:50:35.680937Z"
    }
   },
   "outputs": [
    {
     "data": {
      "image/png": "[encoded data removed]",
      "text/plain": [
       "<Figure size 432x288 with 1 Axes>"
      ]
     },
     "metadata": {},
     "output_type": "display_data"
    }
   ],
   "source": [
    "plot_data_from_recording_df_img_n(test, 68)"
   ]
  },
  {
   "cell_type": "code",
   "execution_count": null,
   "id": "1ad55224",
   "metadata": {
    "ExecuteTime": {
     "end_time": "2022-11-23T15:50:36.133088Z",
     "start_time": "2022-11-23T15:50:36.126247Z"
    }
   },
   "outputs": [
    {
     "data": {
      "text/plain": [
       "(47, 33)"
      ]
     },
     "metadata": {},
     "output_type": "display_data"
    }
   ],
   "source": [
    "(test.Event_type == \"MouseClick\").sum(), len(test.Image_n.unique())"
   ]
  },
  {
   "cell_type": "code",
   "execution_count": null,
   "id": "63457ac6",
   "metadata": {
    "ExecuteTime": {
     "end_time": "2022-11-23T15:50:36.570101Z",
     "start_time": "2022-11-23T15:50:36.566192Z"
    }
   },
   "outputs": [],
   "source": [
    "OUTPUT_DIR_PROCESSED_DATAFRAME = \"processed_data\""
   ]
  },
  {
   "cell_type": "code",
   "execution_count": null,
   "id": "2bd7b93a",
   "metadata": {
    "ExecuteTime": {
     "end_time": "2022-11-23T15:50:39.459486Z",
     "start_time": "2022-11-23T15:50:39.454601Z"
    }
   },
   "outputs": [
    {
     "data": {
      "text/plain": [
       "['Recording30',\n",
       " 'Recording14',\n",
       " 'Recording16',\n",
       " 'Recording23',\n",
       " 'Recording11',\n",
       " 'Recording21',\n",
       " 'Recording31',\n",
       " 'Recording12',\n",
       " 'Recording32',\n",
       " 'Recording15',\n",
       " 'Recording17',\n",
       " 'Recording24',\n",
       " 'Recording18',\n",
       " 'Recording19',\n",
       " 'Recording29',\n",
       " 'Recording28',\n",
       " 'Recording26',\n",
       " 'Recording27',\n",
       " 'Recording22',\n",
       " 'Recording25']"
      ]
     },
     "metadata": {},
     "output_type": "display_data"
    }
   ],
   "source": [
    "relevant_recordings"
   ]
  },
  {
   "cell_type": "code",
   "execution_count": null,
   "id": "4906e2dc",
   "metadata": {
    "ExecuteTime": {
     "end_time": "2022-11-23T15:51:46.077027Z",
     "start_time": "2022-11-23T15:50:39.725915Z"
    },
    "scrolled": true
   },
   "outputs": [
    {
     "name": "stdout",
     "output_type": "stream",
     "text": [
      "Generating dataframe Recording30\n",
      "Generating dataframe Recording14\n",
      "Generating dataframe Recording16\n",
      "Generating dataframe Recording23\n",
      "Generating dataframe Recording11\n",
      "Generating dataframe Recording21\n",
      "Generating dataframe Recording31\n",
      "Generating dataframe Recording12\n",
      "Generating dataframe Recording32\n",
      "Generating dataframe Recording15\n",
      "Generating dataframe Recording17\n",
      "Generating dataframe Recording24\n",
      "Generating dataframe Recording18\n",
      "Generating dataframe Recording19\n",
      "Generating dataframe Recording29\n",
      "Generating dataframe Recording28\n",
      "Generating dataframe Recording26\n",
      "Generating dataframe Recording27\n",
      "Generating dataframe Recording22\n",
      "Generating dataframe Recording25\n"
     ]
    }
   ],
   "source": [
    "for recording in relevant_recordings:\n",
    "    print(f\"Generating dataframe {recording}\")\n",
    "    try:\n",
    "        processed_df = create_processed_dataframe(recording, og_file)\n",
    "        processed_df.to_csv(os.path.join(OUTPUT_DIR_PROCESSED_DATAFRAME, f\"{recording}_processed_df.csv\"))\n",
    "    except:\n",
    "        print(\"ERROR: Exporting recording: \", recording)"
   ]
  },
  {
   "cell_type": "code",
   "execution_count": null,
   "id": "d097e2d7",
   "metadata": {
    "ExecuteTime": {
     "end_time": "2022-11-23T15:51:46.081913Z",
     "start_time": "2022-11-23T15:51:46.078005Z"
    }
   },
   "outputs": [],
   "source": [
    "combined_all_dataframes = pd.DataFrame()"
   ]
  },
  {
   "cell_type": "code",
   "execution_count": null,
   "id": "12ff62d2",
   "metadata": {
    "ExecuteTime": {
     "end_time": "2022-11-23T15:51:46.309683Z",
     "start_time": "2022-11-23T15:51:46.082891Z"
    }
   },
   "outputs": [],
   "source": [
    "for csv_path in os.listdir(OUTPUT_DIR_PROCESSED_DATAFRAME):\n",
    "    df = pd.read_csv(os.path.join(OUTPUT_DIR_PROCESSED_DATAFRAME, csv_path))\n",
    "    combined_all_dataframes = pd.concat([combined_all_dataframes,df])"
   ]
  },
  {
   "cell_type": "code",
   "execution_count": null,
   "id": "95a46f81",
   "metadata": {
    "ExecuteTime": {
     "end_time": "2022-11-23T15:51:46.319454Z",
     "start_time": "2022-11-23T15:51:46.310660Z"
    },
    "scrolled": true
   },
   "outputs": [],
   "source": [
    "combined_all_dataframes = combined_all_dataframes.drop('Unnamed: 0', axis=1)"
   ]
  },
  {
   "cell_type": "code",
   "execution_count": null,
   "id": "1efb756e",
   "metadata": {
    "ExecuteTime": {
     "end_time": "2022-11-23T15:51:46.352232Z",
     "start_time": "2022-11-23T15:51:46.320432Z"
    }
   },
   "outputs": [
    {
     "data": {
      "text/html": [
       "<div>\n",
       "<style scoped>\n",
       "    .dataframe tbody tr th:only-of-type {\n",
       "        vertical-align: middle;\n",
       "    }\n",
       "\n",
       "    .dataframe tbody tr th {\n",
       "        vertical-align: top;\n",
       "    }\n",
       "\n",
       "    .dataframe thead th {\n",
       "        text-align: right;\n",
       "    }\n",
       "</style>\n",
       "<table border=\"1\" class=\"dataframe\">\n",
       "  <thead>\n",
       "    <tr style=\"text-align: right;\">\n",
       "      <th></th>\n",
       "      <th>Computer_time</th>\n",
       "      <th>Event_time</th>\n",
       "      <th>Participant</th>\n",
       "      <th>Recording</th>\n",
       "      <th>Stimulus_name</th>\n",
       "      <th>Image_n</th>\n",
       "      <th>Repetition_n</th>\n",
       "      <th>Stimulus_n</th>\n",
       "      <th>Event_type</th>\n",
       "      <th>Mouse_X</th>\n",
       "      <th>...</th>\n",
       "      <th>Mouse_in_Mask</th>\n",
       "      <th>Response_time</th>\n",
       "      <th>Fixation_N</th>\n",
       "      <th>Fixation_X</th>\n",
       "      <th>Fixation_Y</th>\n",
       "      <th>Fixation_X'</th>\n",
       "      <th>Fixation_Y'</th>\n",
       "      <th>Fixation_in_Image</th>\n",
       "      <th>Fixation_in_Mask</th>\n",
       "      <th>Fixation_duration</th>\n",
       "    </tr>\n",
       "  </thead>\n",
       "  <tbody>\n",
       "    <tr>\n",
       "      <th>0</th>\n",
       "      <td>1.481700e+11</td>\n",
       "      <td>101481208.0</td>\n",
       "      <td>Participant1</td>\n",
       "      <td>Recording11</td>\n",
       "      <td>01_practice_absent_plant</td>\n",
       "      <td>1</td>\n",
       "      <td>0</td>\n",
       "      <td>0</td>\n",
       "      <td>TrialStart</td>\n",
       "      <td>NaN</td>\n",
       "      <td>...</td>\n",
       "      <td>False</td>\n",
       "      <td>NaN</td>\n",
       "      <td>NaN</td>\n",
       "      <td>NaN</td>\n",
       "      <td>NaN</td>\n",
       "      <td>NaN</td>\n",
       "      <td>NaN</td>\n",
       "      <td>False</td>\n",
       "      <td>False</td>\n",
       "      <td>NaN</td>\n",
       "    </tr>\n",
       "    <tr>\n",
       "      <th>1</th>\n",
       "      <td>1.481700e+11</td>\n",
       "      <td>101481208.0</td>\n",
       "      <td>Participant1</td>\n",
       "      <td>Recording11</td>\n",
       "      <td>01_practice_absent_plant</td>\n",
       "      <td>1</td>\n",
       "      <td>0</td>\n",
       "      <td>0</td>\n",
       "      <td>Fixation</td>\n",
       "      <td>NaN</td>\n",
       "      <td>...</td>\n",
       "      <td>False</td>\n",
       "      <td>NaN</td>\n",
       "      <td>0.0</td>\n",
       "      <td>954.0</td>\n",
       "      <td>432.0</td>\n",
       "      <td>506.0</td>\n",
       "      <td>276.0</td>\n",
       "      <td>False</td>\n",
       "      <td>False</td>\n",
       "      <td>416.0</td>\n",
       "    </tr>\n",
       "    <tr>\n",
       "      <th>2</th>\n",
       "      <td>1.481701e+11</td>\n",
       "      <td>101575226.0</td>\n",
       "      <td>Participant1</td>\n",
       "      <td>Recording11</td>\n",
       "      <td>01_practice_absent_plant</td>\n",
       "      <td>1</td>\n",
       "      <td>0</td>\n",
       "      <td>0</td>\n",
       "      <td>Fixation</td>\n",
       "      <td>NaN</td>\n",
       "      <td>...</td>\n",
       "      <td>False</td>\n",
       "      <td>NaN</td>\n",
       "      <td>1.0</td>\n",
       "      <td>975.0</td>\n",
       "      <td>435.0</td>\n",
       "      <td>527.0</td>\n",
       "      <td>279.0</td>\n",
       "      <td>False</td>\n",
       "      <td>False</td>\n",
       "      <td>217.0</td>\n",
       "    </tr>\n",
       "    <tr>\n",
       "      <th>3</th>\n",
       "      <td>1.481703e+11</td>\n",
       "      <td>101825045.0</td>\n",
       "      <td>Participant1</td>\n",
       "      <td>Recording11</td>\n",
       "      <td>01_practice_absent_plant</td>\n",
       "      <td>1</td>\n",
       "      <td>0</td>\n",
       "      <td>0</td>\n",
       "      <td>Fixation</td>\n",
       "      <td>NaN</td>\n",
       "      <td>...</td>\n",
       "      <td>False</td>\n",
       "      <td>NaN</td>\n",
       "      <td>2.0</td>\n",
       "      <td>941.0</td>\n",
       "      <td>509.0</td>\n",
       "      <td>493.0</td>\n",
       "      <td>353.0</td>\n",
       "      <td>False</td>\n",
       "      <td>False</td>\n",
       "      <td>83.0</td>\n",
       "    </tr>\n",
       "    <tr>\n",
       "      <th>4</th>\n",
       "      <td>1.481704e+11</td>\n",
       "      <td>101924974.0</td>\n",
       "      <td>Participant1</td>\n",
       "      <td>Recording11</td>\n",
       "      <td>01_practice_absent_plant</td>\n",
       "      <td>1</td>\n",
       "      <td>0</td>\n",
       "      <td>0</td>\n",
       "      <td>Fixation</td>\n",
       "      <td>NaN</td>\n",
       "      <td>...</td>\n",
       "      <td>False</td>\n",
       "      <td>NaN</td>\n",
       "      <td>3.0</td>\n",
       "      <td>954.0</td>\n",
       "      <td>531.0</td>\n",
       "      <td>506.0</td>\n",
       "      <td>375.0</td>\n",
       "      <td>False</td>\n",
       "      <td>False</td>\n",
       "      <td>150.0</td>\n",
       "    </tr>\n",
       "    <tr>\n",
       "      <th>...</th>\n",
       "      <td>...</td>\n",
       "      <td>...</td>\n",
       "      <td>...</td>\n",
       "      <td>...</td>\n",
       "      <td>...</td>\n",
       "      <td>...</td>\n",
       "      <td>...</td>\n",
       "      <td>...</td>\n",
       "      <td>...</td>\n",
       "      <td>...</td>\n",
       "      <td>...</td>\n",
       "      <td>...</td>\n",
       "      <td>...</td>\n",
       "      <td>...</td>\n",
       "      <td>...</td>\n",
       "      <td>...</td>\n",
       "      <td>...</td>\n",
       "      <td>...</td>\n",
       "      <td>...</td>\n",
       "      <td>...</td>\n",
       "      <td>...</td>\n",
       "    </tr>\n",
       "    <tr>\n",
       "      <th>2087</th>\n",
       "      <td>1.593176e+10</td>\n",
       "      <td>778491328.0</td>\n",
       "      <td>Participant22</td>\n",
       "      <td>Recording32</td>\n",
       "      <td>027_R_filler_present_soapdish</td>\n",
       "      <td>27</td>\n",
       "      <td>0</td>\n",
       "      <td>32</td>\n",
       "      <td>Fixation</td>\n",
       "      <td>NaN</td>\n",
       "      <td>...</td>\n",
       "      <td>False</td>\n",
       "      <td>NaN</td>\n",
       "      <td>5.0</td>\n",
       "      <td>839.0</td>\n",
       "      <td>585.0</td>\n",
       "      <td>391.0</td>\n",
       "      <td>429.0</td>\n",
       "      <td>True</td>\n",
       "      <td>False</td>\n",
       "      <td>233.0</td>\n",
       "    </tr>\n",
       "    <tr>\n",
       "      <th>2088</th>\n",
       "      <td>1.593200e+10</td>\n",
       "      <td>778733975.0</td>\n",
       "      <td>Participant22</td>\n",
       "      <td>Recording32</td>\n",
       "      <td>027_R_filler_present_soapdish</td>\n",
       "      <td>27</td>\n",
       "      <td>0</td>\n",
       "      <td>32</td>\n",
       "      <td>Fixation</td>\n",
       "      <td>NaN</td>\n",
       "      <td>...</td>\n",
       "      <td>False</td>\n",
       "      <td>NaN</td>\n",
       "      <td>6.0</td>\n",
       "      <td>888.0</td>\n",
       "      <td>614.0</td>\n",
       "      <td>440.0</td>\n",
       "      <td>458.0</td>\n",
       "      <td>True</td>\n",
       "      <td>False</td>\n",
       "      <td>366.0</td>\n",
       "    </tr>\n",
       "    <tr>\n",
       "      <th>2089</th>\n",
       "      <td>1.593246e+10</td>\n",
       "      <td>779190103.0</td>\n",
       "      <td>Participant22</td>\n",
       "      <td>Recording32</td>\n",
       "      <td>027_R_filler_present_soapdish</td>\n",
       "      <td>27</td>\n",
       "      <td>0</td>\n",
       "      <td>32</td>\n",
       "      <td>MouseClick</td>\n",
       "      <td>1579.0</td>\n",
       "      <td>...</td>\n",
       "      <td>False</td>\n",
       "      <td>NaN</td>\n",
       "      <td>NaN</td>\n",
       "      <td>NaN</td>\n",
       "      <td>NaN</td>\n",
       "      <td>NaN</td>\n",
       "      <td>NaN</td>\n",
       "      <td>False</td>\n",
       "      <td>False</td>\n",
       "      <td>NaN</td>\n",
       "    </tr>\n",
       "    <tr>\n",
       "      <th>2090</th>\n",
       "      <td>1.593249e+10</td>\n",
       "      <td>779224134.0</td>\n",
       "      <td>Participant22</td>\n",
       "      <td>Recording32</td>\n",
       "      <td>027_R_filler_present_soapdish</td>\n",
       "      <td>27</td>\n",
       "      <td>0</td>\n",
       "      <td>32</td>\n",
       "      <td>Fixation</td>\n",
       "      <td>NaN</td>\n",
       "      <td>...</td>\n",
       "      <td>False</td>\n",
       "      <td>NaN</td>\n",
       "      <td>7.0</td>\n",
       "      <td>705.0</td>\n",
       "      <td>649.0</td>\n",
       "      <td>257.0</td>\n",
       "      <td>493.0</td>\n",
       "      <td>True</td>\n",
       "      <td>False</td>\n",
       "      <td>200.0</td>\n",
       "    </tr>\n",
       "    <tr>\n",
       "      <th>2091</th>\n",
       "      <td>1.593252e+10</td>\n",
       "      <td>779254616.0</td>\n",
       "      <td>Participant22</td>\n",
       "      <td>Recording32</td>\n",
       "      <td>027_R_filler_present_soapdish</td>\n",
       "      <td>27</td>\n",
       "      <td>0</td>\n",
       "      <td>32</td>\n",
       "      <td>TrialEnd</td>\n",
       "      <td>NaN</td>\n",
       "      <td>...</td>\n",
       "      <td>False</td>\n",
       "      <td>NaN</td>\n",
       "      <td>NaN</td>\n",
       "      <td>NaN</td>\n",
       "      <td>NaN</td>\n",
       "      <td>NaN</td>\n",
       "      <td>NaN</td>\n",
       "      <td>False</td>\n",
       "      <td>False</td>\n",
       "      <td>NaN</td>\n",
       "    </tr>\n",
       "  </tbody>\n",
       "</table>\n",
       "<p>38412 rows × 25 columns</p>\n",
       "</div>"
      ],
      "text/plain": [
       "      Computer_time   Event_time    Participant    Recording  \\\n",
       "0      1.481700e+11  101481208.0   Participant1  Recording11   \n",
       "1      1.481700e+11  101481208.0   Participant1  Recording11   \n",
       "2      1.481701e+11  101575226.0   Participant1  Recording11   \n",
       "3      1.481703e+11  101825045.0   Participant1  Recording11   \n",
       "4      1.481704e+11  101924974.0   Participant1  Recording11   \n",
       "...             ...          ...            ...          ...   \n",
       "2087   1.593176e+10  778491328.0  Participant22  Recording32   \n",
       "2088   1.593200e+10  778733975.0  Participant22  Recording32   \n",
       "2089   1.593246e+10  779190103.0  Participant22  Recording32   \n",
       "2090   1.593249e+10  779224134.0  Participant22  Recording32   \n",
       "2091   1.593252e+10  779254616.0  Participant22  Recording32   \n",
       "\n",
       "                      Stimulus_name  Image_n  Repetition_n  Stimulus_n  \\\n",
       "0          01_practice_absent_plant        1             0           0   \n",
       "1          01_practice_absent_plant        1             0           0   \n",
       "2          01_practice_absent_plant        1             0           0   \n",
       "3          01_practice_absent_plant        1             0           0   \n",
       "4          01_practice_absent_plant        1             0           0   \n",
       "...                             ...      ...           ...         ...   \n",
       "2087  027_R_filler_present_soapdish       27             0          32   \n",
       "2088  027_R_filler_present_soapdish       27             0          32   \n",
       "2089  027_R_filler_present_soapdish       27             0          32   \n",
       "2090  027_R_filler_present_soapdish       27             0          32   \n",
       "2091  027_R_filler_present_soapdish       27             0          32   \n",
       "\n",
       "      Event_type  Mouse_X  ...  Mouse_in_Mask  Response_time  Fixation_N  \\\n",
       "0     TrialStart      NaN  ...          False            NaN         NaN   \n",
       "1       Fixation      NaN  ...          False            NaN         0.0   \n",
       "2       Fixation      NaN  ...          False            NaN         1.0   \n",
       "3       Fixation      NaN  ...          False            NaN         2.0   \n",
       "4       Fixation      NaN  ...          False            NaN         3.0   \n",
       "...          ...      ...  ...            ...            ...         ...   \n",
       "2087    Fixation      NaN  ...          False            NaN         5.0   \n",
       "2088    Fixation      NaN  ...          False            NaN         6.0   \n",
       "2089  MouseClick   1579.0  ...          False            NaN         NaN   \n",
       "2090    Fixation      NaN  ...          False            NaN         7.0   \n",
       "2091    TrialEnd      NaN  ...          False            NaN         NaN   \n",
       "\n",
       "      Fixation_X  Fixation_Y  Fixation_X'  Fixation_Y'  Fixation_in_Image  \\\n",
       "0            NaN         NaN          NaN          NaN              False   \n",
       "1          954.0       432.0        506.0        276.0              False   \n",
       "2          975.0       435.0        527.0        279.0              False   \n",
       "3          941.0       509.0        493.0        353.0              False   \n",
       "4          954.0       531.0        506.0        375.0              False   \n",
       "...          ...         ...          ...          ...                ...   \n",
       "2087       839.0       585.0        391.0        429.0               True   \n",
       "2088       888.0       614.0        440.0        458.0               True   \n",
       "2089         NaN         NaN          NaN          NaN              False   \n",
       "2090       705.0       649.0        257.0        493.0               True   \n",
       "2091         NaN         NaN          NaN          NaN              False   \n",
       "\n",
       "      Fixation_in_Mask  Fixation_duration  \n",
       "0                False                NaN  \n",
       "1                False              416.0  \n",
       "2                False              217.0  \n",
       "3                False               83.0  \n",
       "4                False              150.0  \n",
       "...                ...                ...  \n",
       "2087             False              233.0  \n",
       "2088             False              366.0  \n",
       "2089             False                NaN  \n",
       "2090             False              200.0  \n",
       "2091             False                NaN  \n",
       "\n",
       "[38412 rows x 25 columns]"
      ]
     },
     "metadata": {},
     "output_type": "display_data"
    }
   ],
   "source": [
    "combined_all_dataframes"
   ]
  },
  {
   "cell_type": "code",
   "execution_count": null,
   "id": "c01e210c",
   "metadata": {
    "ExecuteTime": {
     "end_time": "2022-11-23T15:51:46.358094Z",
     "start_time": "2022-11-23T15:51:46.353210Z"
    }
   },
   "outputs": [],
   "source": [
    "combined_all_dataframes.Response_time = combined_all_dataframes.Response_time * 1e-6"
   ]
  },
  {
   "cell_type": "code",
   "execution_count": null,
   "id": "18710920",
   "metadata": {
    "ExecuteTime": {
     "end_time": "2022-11-23T15:58:24.451600Z",
     "start_time": "2022-11-23T15:58:24.379291Z"
    }
   },
   "outputs": [
    {
     "data": {
      "text/plain": [
       "<AxesSubplot:>"
      ]
     },
     "metadata": {},
     "output_type": "display_data"
    },
    {
     "data": {
      "image/png": "[encoded data removed]",
      "text/plain": [
       "<Figure size 432x288 with 1 Axes>"
      ]
     },
     "metadata": {},
     "output_type": "display_data"
    }
   ],
   "source": [
    "(combined_all_dataframes[combined_all_dataframes.Mouse_Confirm_Trial == True].groupby(\"Participant\").Mouse_in_Mask.sum()/33).plot.box()"
   ]
  },
  {
   "cell_type": "code",
   "execution_count": null,
   "id": "bc77dd14",
   "metadata": {},
   "outputs": [
    {
     "data": {
      "text/html": [
       "<div>\n",
       "<style scoped>\n",
       "    .dataframe tbody tr th:only-of-type {\n",
       "        vertical-align: middle;\n",
       "    }\n",
       "\n",
       "    .dataframe tbody tr th {\n",
       "        vertical-align: top;\n",
       "    }\n",
       "\n",
       "    .dataframe thead th {\n",
       "        text-align: right;\n",
       "    }\n",
       "</style>\n",
       "<table border=\"1\" class=\"dataframe\">\n",
       "  <thead>\n",
       "    <tr style=\"text-align: right;\">\n",
       "      <th></th>\n",
       "      <th>Computer_time</th>\n",
       "      <th>Event_time</th>\n",
       "      <th>Participant</th>\n",
       "      <th>Recording</th>\n",
       "      <th>Stimulus_name</th>\n",
       "      <th>Image_n</th>\n",
       "      <th>Repetition_n</th>\n",
       "      <th>Stimulus_n</th>\n",
       "      <th>Event_type</th>\n",
       "      <th>Mouse_X</th>\n",
       "      <th>...</th>\n",
       "      <th>Mouse_in_Mask</th>\n",
       "      <th>Response_time</th>\n",
       "      <th>Fixation_N</th>\n",
       "      <th>Fixation_X</th>\n",
       "      <th>Fixation_Y</th>\n",
       "      <th>Fixation_X'</th>\n",
       "      <th>Fixation_Y'</th>\n",
       "      <th>Fixation_in_Image</th>\n",
       "      <th>Fixation_in_Mask</th>\n",
       "      <th>Fixation_duration</th>\n",
       "    </tr>\n",
       "  </thead>\n",
       "  <tbody>\n",
       "    <tr>\n",
       "      <th>0</th>\n",
       "      <td>1.481700e+11</td>\n",
       "      <td>101481208.0</td>\n",
       "      <td>Participant1</td>\n",
       "      <td>Recording11</td>\n",
       "      <td>01_practice_absent_plant</td>\n",
       "      <td>1</td>\n",
       "      <td>0</td>\n",
       "      <td>0</td>\n",
       "      <td>TrialStart</td>\n",
       "      <td>NaN</td>\n",
       "      <td>...</td>\n",
       "      <td>False</td>\n",
       "      <td>NaN</td>\n",
       "      <td>NaN</td>\n",
       "      <td>NaN</td>\n",
       "      <td>NaN</td>\n",
       "      <td>NaN</td>\n",
       "      <td>NaN</td>\n",
       "      <td>False</td>\n",
       "      <td>False</td>\n",
       "      <td>NaN</td>\n",
       "    </tr>\n",
       "    <tr>\n",
       "      <th>1</th>\n",
       "      <td>1.481700e+11</td>\n",
       "      <td>101481208.0</td>\n",
       "      <td>Participant1</td>\n",
       "      <td>Recording11</td>\n",
       "      <td>01_practice_absent_plant</td>\n",
       "      <td>1</td>\n",
       "      <td>0</td>\n",
       "      <td>0</td>\n",
       "      <td>Fixation</td>\n",
       "      <td>NaN</td>\n",
       "      <td>...</td>\n",
       "      <td>False</td>\n",
       "      <td>NaN</td>\n",
       "      <td>0.0</td>\n",
       "      <td>954.0</td>\n",
       "      <td>432.0</td>\n",
       "      <td>506.0</td>\n",
       "      <td>276.0</td>\n",
       "      <td>False</td>\n",
       "      <td>False</td>\n",
       "      <td>416.0</td>\n",
       "    </tr>\n",
       "    <tr>\n",
       "      <th>2</th>\n",
       "      <td>1.481701e+11</td>\n",
       "      <td>101575226.0</td>\n",
       "      <td>Participant1</td>\n",
       "      <td>Recording11</td>\n",
       "      <td>01_practice_absent_plant</td>\n",
       "      <td>1</td>\n",
       "      <td>0</td>\n",
       "      <td>0</td>\n",
       "      <td>Fixation</td>\n",
       "      <td>NaN</td>\n",
       "      <td>...</td>\n",
       "      <td>False</td>\n",
       "      <td>NaN</td>\n",
       "      <td>1.0</td>\n",
       "      <td>975.0</td>\n",
       "      <td>435.0</td>\n",
       "      <td>527.0</td>\n",
       "      <td>279.0</td>\n",
       "      <td>False</td>\n",
       "      <td>False</td>\n",
       "      <td>217.0</td>\n",
       "    </tr>\n",
       "    <tr>\n",
       "      <th>3</th>\n",
       "      <td>1.481703e+11</td>\n",
       "      <td>101825045.0</td>\n",
       "      <td>Participant1</td>\n",
       "      <td>Recording11</td>\n",
       "      <td>01_practice_absent_plant</td>\n",
       "      <td>1</td>\n",
       "      <td>0</td>\n",
       "      <td>0</td>\n",
       "      <td>Fixation</td>\n",
       "      <td>NaN</td>\n",
       "      <td>...</td>\n",
       "      <td>False</td>\n",
       "      <td>NaN</td>\n",
       "      <td>2.0</td>\n",
       "      <td>941.0</td>\n",
       "      <td>509.0</td>\n",
       "      <td>493.0</td>\n",
       "      <td>353.0</td>\n",
       "      <td>False</td>\n",
       "      <td>False</td>\n",
       "      <td>83.0</td>\n",
       "    </tr>\n",
       "    <tr>\n",
       "      <th>4</th>\n",
       "      <td>1.481704e+11</td>\n",
       "      <td>101924974.0</td>\n",
       "      <td>Participant1</td>\n",
       "      <td>Recording11</td>\n",
       "      <td>01_practice_absent_plant</td>\n",
       "      <td>1</td>\n",
       "      <td>0</td>\n",
       "      <td>0</td>\n",
       "      <td>Fixation</td>\n",
       "      <td>NaN</td>\n",
       "      <td>...</td>\n",
       "      <td>False</td>\n",
       "      <td>NaN</td>\n",
       "      <td>3.0</td>\n",
       "      <td>954.0</td>\n",
       "      <td>531.0</td>\n",
       "      <td>506.0</td>\n",
       "      <td>375.0</td>\n",
       "      <td>False</td>\n",
       "      <td>False</td>\n",
       "      <td>150.0</td>\n",
       "    </tr>\n",
       "  </tbody>\n",
       "</table>\n",
       "<p>5 rows × 25 columns</p>\n",
       "</div>"
      ],
      "text/plain": [
       "   Computer_time   Event_time   Participant    Recording  \\\n",
       "0   1.481700e+11  101481208.0  Participant1  Recording11   \n",
       "1   1.481700e+11  101481208.0  Participant1  Recording11   \n",
       "2   1.481701e+11  101575226.0  Participant1  Recording11   \n",
       "3   1.481703e+11  101825045.0  Participant1  Recording11   \n",
       "4   1.481704e+11  101924974.0  Participant1  Recording11   \n",
       "\n",
       "              Stimulus_name  Image_n  Repetition_n  Stimulus_n  Event_type  \\\n",
       "0  01_practice_absent_plant        1             0           0  TrialStart   \n",
       "1  01_practice_absent_plant        1             0           0    Fixation   \n",
       "2  01_practice_absent_plant        1             0           0    Fixation   \n",
       "3  01_practice_absent_plant        1             0           0    Fixation   \n",
       "4  01_practice_absent_plant        1             0           0    Fixation   \n",
       "\n",
       "   Mouse_X  ...  Mouse_in_Mask  Response_time  Fixation_N  Fixation_X  \\\n",
       "0      NaN  ...          False            NaN         NaN         NaN   \n",
       "1      NaN  ...          False            NaN         0.0       954.0   \n",
       "2      NaN  ...          False            NaN         1.0       975.0   \n",
       "3      NaN  ...          False            NaN         2.0       941.0   \n",
       "4      NaN  ...          False            NaN         3.0       954.0   \n",
       "\n",
       "   Fixation_Y  Fixation_X'  Fixation_Y'  Fixation_in_Image  Fixation_in_Mask  \\\n",
       "0         NaN          NaN          NaN              False             False   \n",
       "1       432.0        506.0        276.0              False             False   \n",
       "2       435.0        527.0        279.0              False             False   \n",
       "3       509.0        493.0        353.0              False             False   \n",
       "4       531.0        506.0        375.0              False             False   \n",
       "\n",
       "   Fixation_duration  \n",
       "0                NaN  \n",
       "1              416.0  \n",
       "2              217.0  \n",
       "3               83.0  \n",
       "4              150.0  \n",
       "\n",
       "[5 rows x 25 columns]"
      ]
     },
     "metadata": {},
     "output_type": "display_data"
    }
   ],
   "source": [
    "combined_all_dataframes.head()"
   ]
  },
  {
   "cell_type": "code",
   "execution_count": null,
   "id": "503c8570",
   "metadata": {},
   "outputs": [
    {
     "data": {
      "text/plain": [
       "Index(['Computer_time', 'Event_time', 'Participant', 'Recording',\n",
       "       'Stimulus_name', 'Image_n', 'Repetition_n', 'Stimulus_n', 'Event_type',\n",
       "       'Mouse_X', 'Mouse_Y', 'Mouse_X'', 'Mouse_Y'', 'Mouse_Confirm_Trial',\n",
       "       'Mouse_in_Image', 'Mouse_in_Mask', 'Response_time', 'Fixation_N',\n",
       "       'Fixation_X', 'Fixation_Y', 'Fixation_X'', 'Fixation_Y'',\n",
       "       'Fixation_in_Image', 'Fixation_in_Mask', 'Fixation_duration'],\n",
       "      dtype='object')"
      ]
     },
     "metadata": {},
     "output_type": "display_data"
    }
   ],
   "source": [
    "combined_all_dataframes.columns"
   ]
  },
  {
   "cell_type": "code",
   "execution_count": null,
   "id": "7f8fcea6",
   "metadata": {},
   "outputs": [
    {
     "data": {
      "text/plain": [
       "array([  1,   2, 118,   5, 116,  61, 115,   9,  54,   7,  97,  22,  64,\n",
       "        55,  39,  77, 122, 120,  35,  60,  48,  34, 102,  18, 112,  78,\n",
       "         4,  49,  84,  27,  40,  68,  25], dtype=int64)"
      ]
     },
     "metadata": {},
     "output_type": "display_data"
    }
   ],
   "source": [
    "combined_all_dataframes.Image_n.unique()"
   ]
  },
  {
   "cell_type": "code",
   "execution_count": null,
   "id": "008094d2",
   "metadata": {},
   "outputs": [],
   "source": [
    "# is true if once fixated in mask per stimulus, otherwise false.\n",
    "df_bool = combined_all_dataframes[['Participant','Stimulus_n','Mouse_in_Mask','Fixation_in_Mask']].groupby(by = ['Participant','Stimulus_n']).max() \n",
    "# df_bool = combined_all_dataframes[['Participant','Stimulus_n','Mouse_in_Mask','Fixation_in_Mask']].groupby(by = ['Participant','Stimulus_n']).max() "
   ]
  },
  {
   "cell_type": "code",
   "execution_count": null,
   "id": "5dfb600d",
   "metadata": {},
   "outputs": [
    {
     "data": {
      "text/html": [
       "<div>\n",
       "<style scoped>\n",
       "    .dataframe tbody tr th:only-of-type {\n",
       "        vertical-align: middle;\n",
       "    }\n",
       "\n",
       "    .dataframe tbody tr th {\n",
       "        vertical-align: top;\n",
       "    }\n",
       "\n",
       "    .dataframe thead th {\n",
       "        text-align: right;\n",
       "    }\n",
       "</style>\n",
       "<table border=\"1\" class=\"dataframe\">\n",
       "  <thead>\n",
       "    <tr style=\"text-align: right;\">\n",
       "      <th></th>\n",
       "      <th></th>\n",
       "      <th>Mouse_in_Mask</th>\n",
       "      <th>Fixation_in_Mask</th>\n",
       "      <th>Mouse_Confirm_Trial</th>\n",
       "    </tr>\n",
       "    <tr>\n",
       "      <th>Participant</th>\n",
       "      <th>Stimulus_n</th>\n",
       "      <th></th>\n",
       "      <th></th>\n",
       "      <th></th>\n",
       "    </tr>\n",
       "  </thead>\n",
       "  <tbody>\n",
       "    <tr>\n",
       "      <th rowspan=\"5\" valign=\"top\">Participant1</th>\n",
       "      <th>0</th>\n",
       "      <td>False</td>\n",
       "      <td>False</td>\n",
       "      <td>True</td>\n",
       "    </tr>\n",
       "    <tr>\n",
       "      <th>1</th>\n",
       "      <td>False</td>\n",
       "      <td>False</td>\n",
       "      <td>True</td>\n",
       "    </tr>\n",
       "    <tr>\n",
       "      <th>2</th>\n",
       "      <td>False</td>\n",
       "      <td>False</td>\n",
       "      <td>True</td>\n",
       "    </tr>\n",
       "    <tr>\n",
       "      <th>3</th>\n",
       "      <td>True</td>\n",
       "      <td>True</td>\n",
       "      <td>True</td>\n",
       "    </tr>\n",
       "    <tr>\n",
       "      <th>4</th>\n",
       "      <td>False</td>\n",
       "      <td>False</td>\n",
       "      <td>True</td>\n",
       "    </tr>\n",
       "  </tbody>\n",
       "</table>\n",
       "</div>"
      ],
      "text/plain": [
       "                         Mouse_in_Mask  Fixation_in_Mask  Mouse_Confirm_Trial\n",
       "Participant  Stimulus_n                                                      \n",
       "Participant1 0                   False             False                 True\n",
       "             1                   False             False                 True\n",
       "             2                   False             False                 True\n",
       "             3                    True              True                 True\n",
       "             4                   False             False                 True"
      ]
     },
     "metadata": {},
     "output_type": "display_data"
    }
   ],
   "source": [
    "df_bool.head()"
   ]
  },
  {
   "cell_type": "code",
   "execution_count": null,
   "id": "9b15c45a",
   "metadata": {},
   "outputs": [],
   "source": [
    "#check how often people did fixate in the mask, but did not click the change\n",
    "df_asdf = df_bool[(df_bool.Mouse_in_Mask == False) & (df_bool.Fixation_in_Mask == True)]\n",
    "\n",
    "#This happened 247/656 times\n",
    "# TODO: look at visualizations of specific cases where this happened\n",
    "# TODO: look at where fixated both in absent and present variant of image\n"
   ]
  },
  {
   "cell_type": "code",
   "execution_count": null,
   "id": "97669042",
   "metadata": {},
   "outputs": [
    {
     "name": "stdout",
     "output_type": "stream",
     "text": [
      "Index(['Participant1', 'Participant10', 'Participant11', 'Participant12',\n",
      "       'Participant13', 'Participant15', 'Participant16', 'Participant17',\n",
      "       'Participant18', 'Participant19', 'Participant2', 'Participant20',\n",
      "       'Participant21', 'Participant22', 'Participant3', 'Participant4',\n",
      "       'Participant5', 'Participant6', 'Participant7', 'Participant8'],\n",
      "      dtype='object', name='Participant')\n"
     ]
    },
    {
     "data": {
      "text/html": [
       "<div>\n",
       "<style scoped>\n",
       "    .dataframe tbody tr th:only-of-type {\n",
       "        vertical-align: middle;\n",
       "    }\n",
       "\n",
       "    .dataframe tbody tr th {\n",
       "        vertical-align: top;\n",
       "    }\n",
       "\n",
       "    .dataframe thead th {\n",
       "        text-align: right;\n",
       "    }\n",
       "</style>\n",
       "<table border=\"1\" class=\"dataframe\">\n",
       "  <thead>\n",
       "    <tr style=\"text-align: right;\">\n",
       "      <th></th>\n",
       "      <th></th>\n",
       "      <th>Mouse_in_Mask</th>\n",
       "      <th>Fixation_in_Mask</th>\n",
       "    </tr>\n",
       "    <tr>\n",
       "      <th>Participant</th>\n",
       "      <th>Stimulus_n</th>\n",
       "      <th></th>\n",
       "      <th></th>\n",
       "    </tr>\n",
       "  </thead>\n",
       "  <tbody>\n",
       "    <tr>\n",
       "      <th rowspan=\"5\" valign=\"top\">Participant1</th>\n",
       "      <th>5</th>\n",
       "      <td>False</td>\n",
       "      <td>True</td>\n",
       "    </tr>\n",
       "    <tr>\n",
       "      <th>8</th>\n",
       "      <td>False</td>\n",
       "      <td>True</td>\n",
       "    </tr>\n",
       "    <tr>\n",
       "      <th>9</th>\n",
       "      <td>False</td>\n",
       "      <td>True</td>\n",
       "    </tr>\n",
       "    <tr>\n",
       "      <th>12</th>\n",
       "      <td>False</td>\n",
       "      <td>True</td>\n",
       "    </tr>\n",
       "    <tr>\n",
       "      <th>16</th>\n",
       "      <td>False</td>\n",
       "      <td>True</td>\n",
       "    </tr>\n",
       "    <tr>\n",
       "      <th>...</th>\n",
       "      <th>...</th>\n",
       "      <td>...</td>\n",
       "      <td>...</td>\n",
       "    </tr>\n",
       "    <tr>\n",
       "      <th rowspan=\"5\" valign=\"top\">Participant8</th>\n",
       "      <th>23</th>\n",
       "      <td>False</td>\n",
       "      <td>True</td>\n",
       "    </tr>\n",
       "    <tr>\n",
       "      <th>26</th>\n",
       "      <td>False</td>\n",
       "      <td>True</td>\n",
       "    </tr>\n",
       "    <tr>\n",
       "      <th>28</th>\n",
       "      <td>False</td>\n",
       "      <td>True</td>\n",
       "    </tr>\n",
       "    <tr>\n",
       "      <th>30</th>\n",
       "      <td>False</td>\n",
       "      <td>True</td>\n",
       "    </tr>\n",
       "    <tr>\n",
       "      <th>32</th>\n",
       "      <td>False</td>\n",
       "      <td>True</td>\n",
       "    </tr>\n",
       "  </tbody>\n",
       "</table>\n",
       "<p>247 rows × 2 columns</p>\n",
       "</div>"
      ],
      "text/plain": [
       "                         Mouse_in_Mask  Fixation_in_Mask\n",
       "Participant  Stimulus_n                                 \n",
       "Participant1 5                   False              True\n",
       "             8                   False              True\n",
       "             9                   False              True\n",
       "             12                  False              True\n",
       "             16                  False              True\n",
       "...                                ...               ...\n",
       "Participant8 23                  False              True\n",
       "             26                  False              True\n",
       "             28                  False              True\n",
       "             30                  False              True\n",
       "             32                  False              True\n",
       "\n",
       "[247 rows x 2 columns]"
      ]
     },
     "metadata": {},
     "output_type": "display_data"
    }
   ],
   "source": [
    "# look at how many participants  did fixate in the mask, but did not click the change.\n",
    "\n",
    "print(df_bool[(df_bool.Mouse_in_Mask == False) & (df_bool.Fixation_in_Mask == True)].index.get_level_values('Participant').unique())\n",
    "df_bool[(df_bool.Mouse_in_Mask == False) & (df_bool.Fixation_in_Mask == True)]"
   ]
  },
  {
   "cell_type": "code",
   "execution_count": null,
   "id": "92d1ad2d",
   "metadata": {},
   "outputs": [
    {
     "data": {
      "text/html": [
       "<div>\n",
       "<style scoped>\n",
       "    .dataframe tbody tr th:only-of-type {\n",
       "        vertical-align: middle;\n",
       "    }\n",
       "\n",
       "    .dataframe tbody tr th {\n",
       "        vertical-align: top;\n",
       "    }\n",
       "\n",
       "    .dataframe thead th {\n",
       "        text-align: right;\n",
       "    }\n",
       "</style>\n",
       "<table border=\"1\" class=\"dataframe\">\n",
       "  <thead>\n",
       "    <tr style=\"text-align: right;\">\n",
       "      <th></th>\n",
       "      <th>Computer_time</th>\n",
       "      <th>Event_time</th>\n",
       "      <th>Participant</th>\n",
       "      <th>Recording</th>\n",
       "      <th>Stimulus_name</th>\n",
       "      <th>Image_n</th>\n",
       "      <th>Repetition_n</th>\n",
       "      <th>Stimulus_n</th>\n",
       "      <th>Event_type</th>\n",
       "      <th>Mouse_X</th>\n",
       "      <th>...</th>\n",
       "      <th>Mouse_in_Mask</th>\n",
       "      <th>Response_time</th>\n",
       "      <th>Fixation_N</th>\n",
       "      <th>Fixation_X</th>\n",
       "      <th>Fixation_Y</th>\n",
       "      <th>Fixation_X'</th>\n",
       "      <th>Fixation_Y'</th>\n",
       "      <th>Fixation_in_Image</th>\n",
       "      <th>Fixation_in_Mask</th>\n",
       "      <th>Fixation_duration</th>\n",
       "    </tr>\n",
       "  </thead>\n",
       "  <tbody>\n",
       "  </tbody>\n",
       "</table>\n",
       "<p>0 rows × 25 columns</p>\n",
       "</div>"
      ],
      "text/plain": [
       "Empty DataFrame\n",
       "Columns: [Computer_time, Event_time, Participant, Recording, Stimulus_name, Image_n, Repetition_n, Stimulus_n, Event_type, Mouse_X, Mouse_Y, Mouse_X', Mouse_Y', Mouse_Confirm_Trial, Mouse_in_Image, Mouse_in_Mask, Response_time, Fixation_N, Fixation_X, Fixation_Y, Fixation_X', Fixation_Y', Fixation_in_Image, Fixation_in_Mask, Fixation_duration]\n",
       "Index: []\n",
       "\n",
       "[0 rows x 25 columns]"
      ]
     },
     "metadata": {},
     "output_type": "display_data"
    }
   ],
   "source": [
    "combined_all_dataframes[combined_all_dataframes.Mouse_Confirm_Trial ==True]"
   ]
  },
  {
   "cell_type": "code",
   "execution_count": null,
   "id": "59ac2c34",
   "metadata": {},
   "outputs": [
    {
     "data": {
      "text/html": [
       "<div>\n",
       "<style scoped>\n",
       "    .dataframe tbody tr th:only-of-type {\n",
       "        vertical-align: middle;\n",
       "    }\n",
       "\n",
       "    .dataframe tbody tr th {\n",
       "        vertical-align: top;\n",
       "    }\n",
       "\n",
       "    .dataframe thead th {\n",
       "        text-align: right;\n",
       "    }\n",
       "</style>\n",
       "<table border=\"1\" class=\"dataframe\">\n",
       "  <thead>\n",
       "    <tr style=\"text-align: right;\">\n",
       "      <th></th>\n",
       "      <th></th>\n",
       "      <th>Mouse_in_Mask</th>\n",
       "      <th>Fixation_in_Mask</th>\n",
       "    </tr>\n",
       "    <tr>\n",
       "      <th>Participant</th>\n",
       "      <th>Stimulus_n</th>\n",
       "      <th></th>\n",
       "      <th></th>\n",
       "    </tr>\n",
       "  </thead>\n",
       "  <tbody>\n",
       "  </tbody>\n",
       "</table>\n",
       "</div>"
      ],
      "text/plain": [
       "Empty DataFrame\n",
       "Columns: [Mouse_in_Mask, Fixation_in_Mask]\n",
       "Index: []"
      ]
     },
     "metadata": {},
     "output_type": "display_data"
    }
   ],
   "source": [
    "# check how often people did click the change, but did not fixate the change\n",
    "dfTmp = combined_all_dataframes\n",
    "dfTmp.loc[dfTmp.Mouse_Confirm_Trial == True,'Fixation_in_Mask'] = False\n",
    "df_bool = dfTmp[['Participant','Stimulus_n','Mouse_in_Mask','Fixation_in_Mask']].groupby(by = ['Participant','Stimulus_n']).max() \n",
    "\n",
    "df_bool[(df_bool.Mouse_in_Mask == True) & (df_bool.Fixation_in_Mask == False)]\n",
    "\n",
    "#this did not happen once\n",
    "# TODO: check if the fixations are only taken before the click or also after/durint?"
   ]
  },
  {
   "cell_type": "code",
   "execution_count": null,
   "id": "740d1ba9",
   "metadata": {},
   "outputs": [],
   "source": [
    "# look at "
   ]
  },
  {
   "cell_type": "code",
   "execution_count": null,
   "id": "89cbee2a",
   "metadata": {},
   "outputs": [
    {
     "data": {
      "text/html": [
       "<div>\n",
       "<style scoped>\n",
       "    .dataframe tbody tr th:only-of-type {\n",
       "        vertical-align: middle;\n",
       "    }\n",
       "\n",
       "    .dataframe tbody tr th {\n",
       "        vertical-align: top;\n",
       "    }\n",
       "\n",
       "    .dataframe thead th {\n",
       "        text-align: right;\n",
       "    }\n",
       "</style>\n",
       "<table border=\"1\" class=\"dataframe\">\n",
       "  <thead>\n",
       "    <tr style=\"text-align: right;\">\n",
       "      <th></th>\n",
       "      <th>Computer_time</th>\n",
       "      <th>Event_time</th>\n",
       "      <th>Participant</th>\n",
       "      <th>Recording</th>\n",
       "      <th>Stimulus_name</th>\n",
       "      <th>Image_n</th>\n",
       "      <th>Repetition_n</th>\n",
       "      <th>Stimulus_n</th>\n",
       "      <th>Event_type</th>\n",
       "      <th>Mouse_X</th>\n",
       "      <th>...</th>\n",
       "      <th>Mouse_in_Mask</th>\n",
       "      <th>Response_time</th>\n",
       "      <th>Fixation_N</th>\n",
       "      <th>Fixation_X</th>\n",
       "      <th>Fixation_Y</th>\n",
       "      <th>Fixation_X'</th>\n",
       "      <th>Fixation_Y'</th>\n",
       "      <th>Fixation_in_Image</th>\n",
       "      <th>Fixation_in_Mask</th>\n",
       "      <th>Fixation_duration</th>\n",
       "    </tr>\n",
       "  </thead>\n",
       "  <tbody>\n",
       "    <tr>\n",
       "      <th>246</th>\n",
       "      <td>1.484090e+11</td>\n",
       "      <td>340467488.0</td>\n",
       "      <td>Participant1</td>\n",
       "      <td>Recording11</td>\n",
       "      <td>05_R_filler_present_mirror</td>\n",
       "      <td>5</td>\n",
       "      <td>2</td>\n",
       "      <td>3</td>\n",
       "      <td>MouseClick</td>\n",
       "      <td>1372.0</td>\n",
       "      <td>...</td>\n",
       "      <td>False</td>\n",
       "      <td>9.305029</td>\n",
       "      <td>NaN</td>\n",
       "      <td>NaN</td>\n",
       "      <td>NaN</td>\n",
       "      <td>NaN</td>\n",
       "      <td>NaN</td>\n",
       "      <td>False</td>\n",
       "      <td>False</td>\n",
       "      <td>NaN</td>\n",
       "    </tr>\n",
       "    <tr>\n",
       "      <th>459</th>\n",
       "      <td>1.484722e+11</td>\n",
       "      <td>403643367.0</td>\n",
       "      <td>Participant1</td>\n",
       "      <td>Recording11</td>\n",
       "      <td>0115_R_window_neither_pot</td>\n",
       "      <td>115</td>\n",
       "      <td>2</td>\n",
       "      <td>6</td>\n",
       "      <td>MouseClick</td>\n",
       "      <td>943.0</td>\n",
       "      <td>...</td>\n",
       "      <td>False</td>\n",
       "      <td>12.748102</td>\n",
       "      <td>NaN</td>\n",
       "      <td>NaN</td>\n",
       "      <td>NaN</td>\n",
       "      <td>NaN</td>\n",
       "      <td>NaN</td>\n",
       "      <td>False</td>\n",
       "      <td>False</td>\n",
       "      <td>NaN</td>\n",
       "    </tr>\n",
       "    <tr>\n",
       "      <th>701</th>\n",
       "      <td>1.485419e+11</td>\n",
       "      <td>473379272.0</td>\n",
       "      <td>Participant1</td>\n",
       "      <td>Recording11</td>\n",
       "      <td>097_L_mirrorONLY_neither_light</td>\n",
       "      <td>97</td>\n",
       "      <td>1</td>\n",
       "      <td>10</td>\n",
       "      <td>MouseClick</td>\n",
       "      <td>899.0</td>\n",
       "      <td>...</td>\n",
       "      <td>False</td>\n",
       "      <td>5.768082</td>\n",
       "      <td>NaN</td>\n",
       "      <td>NaN</td>\n",
       "      <td>NaN</td>\n",
       "      <td>NaN</td>\n",
       "      <td>NaN</td>\n",
       "      <td>False</td>\n",
       "      <td>False</td>\n",
       "      <td>NaN</td>\n",
       "    </tr>\n",
       "    <tr>\n",
       "      <th>738</th>\n",
       "      <td>1.485567e+11</td>\n",
       "      <td>488187295.0</td>\n",
       "      <td>Participant1</td>\n",
       "      <td>Recording11</td>\n",
       "      <td>022_L_filler_present_lamp</td>\n",
       "      <td>22</td>\n",
       "      <td>0</td>\n",
       "      <td>11</td>\n",
       "      <td>MouseClick</td>\n",
       "      <td>924.0</td>\n",
       "      <td>...</td>\n",
       "      <td>False</td>\n",
       "      <td>3.226367</td>\n",
       "      <td>NaN</td>\n",
       "      <td>NaN</td>\n",
       "      <td>NaN</td>\n",
       "      <td>NaN</td>\n",
       "      <td>NaN</td>\n",
       "      <td>False</td>\n",
       "      <td>False</td>\n",
       "      <td>NaN</td>\n",
       "    </tr>\n",
       "    <tr>\n",
       "      <th>861</th>\n",
       "      <td>1.485933e+11</td>\n",
       "      <td>524803235.0</td>\n",
       "      <td>Participant1</td>\n",
       "      <td>Recording11</td>\n",
       "      <td>055_R_filler_absent_carpet</td>\n",
       "      <td>55</td>\n",
       "      <td>1</td>\n",
       "      <td>13</td>\n",
       "      <td>MouseClick</td>\n",
       "      <td>929.0</td>\n",
       "      <td>...</td>\n",
       "      <td>False</td>\n",
       "      <td>5.375836</td>\n",
       "      <td>NaN</td>\n",
       "      <td>NaN</td>\n",
       "      <td>NaN</td>\n",
       "      <td>NaN</td>\n",
       "      <td>NaN</td>\n",
       "      <td>False</td>\n",
       "      <td>False</td>\n",
       "      <td>NaN</td>\n",
       "    </tr>\n",
       "    <tr>\n",
       "      <th>...</th>\n",
       "      <td>...</td>\n",
       "      <td>...</td>\n",
       "      <td>...</td>\n",
       "      <td>...</td>\n",
       "      <td>...</td>\n",
       "      <td>...</td>\n",
       "      <td>...</td>\n",
       "      <td>...</td>\n",
       "      <td>...</td>\n",
       "      <td>...</td>\n",
       "      <td>...</td>\n",
       "      <td>...</td>\n",
       "      <td>...</td>\n",
       "      <td>...</td>\n",
       "      <td>...</td>\n",
       "      <td>...</td>\n",
       "      <td>...</td>\n",
       "      <td>...</td>\n",
       "      <td>...</td>\n",
       "      <td>...</td>\n",
       "      <td>...</td>\n",
       "    </tr>\n",
       "    <tr>\n",
       "      <th>985</th>\n",
       "      <td>1.558111e+10</td>\n",
       "      <td>427837973.0</td>\n",
       "      <td>Participant22</td>\n",
       "      <td>Recording32</td>\n",
       "      <td>0118_L_window_neither_shoes</td>\n",
       "      <td>118</td>\n",
       "      <td>0</td>\n",
       "      <td>15</td>\n",
       "      <td>MouseClick</td>\n",
       "      <td>909.0</td>\n",
       "      <td>...</td>\n",
       "      <td>False</td>\n",
       "      <td>3.381078</td>\n",
       "      <td>NaN</td>\n",
       "      <td>NaN</td>\n",
       "      <td>NaN</td>\n",
       "      <td>NaN</td>\n",
       "      <td>NaN</td>\n",
       "      <td>False</td>\n",
       "      <td>False</td>\n",
       "      <td>NaN</td>\n",
       "    </tr>\n",
       "    <tr>\n",
       "      <th>1306</th>\n",
       "      <td>1.570592e+10</td>\n",
       "      <td>552654019.0</td>\n",
       "      <td>Participant22</td>\n",
       "      <td>Recording32</td>\n",
       "      <td>040_R_filler_absent_painting</td>\n",
       "      <td>40</td>\n",
       "      <td>1</td>\n",
       "      <td>20</td>\n",
       "      <td>MouseClick</td>\n",
       "      <td>1295.0</td>\n",
       "      <td>...</td>\n",
       "      <td>True</td>\n",
       "      <td>7.997895</td>\n",
       "      <td>NaN</td>\n",
       "      <td>NaN</td>\n",
       "      <td>NaN</td>\n",
       "      <td>NaN</td>\n",
       "      <td>NaN</td>\n",
       "      <td>False</td>\n",
       "      <td>False</td>\n",
       "      <td>NaN</td>\n",
       "    </tr>\n",
       "    <tr>\n",
       "      <th>1346</th>\n",
       "      <td>1.571748e+10</td>\n",
       "      <td>564214077.0</td>\n",
       "      <td>Participant22</td>\n",
       "      <td>Recording32</td>\n",
       "      <td>049_R_filler_absent_painting</td>\n",
       "      <td>49</td>\n",
       "      <td>0</td>\n",
       "      <td>21</td>\n",
       "      <td>MouseClick</td>\n",
       "      <td>1298.0</td>\n",
       "      <td>...</td>\n",
       "      <td>False</td>\n",
       "      <td>3.258082</td>\n",
       "      <td>NaN</td>\n",
       "      <td>NaN</td>\n",
       "      <td>NaN</td>\n",
       "      <td>NaN</td>\n",
       "      <td>NaN</td>\n",
       "      <td>False</td>\n",
       "      <td>False</td>\n",
       "      <td>NaN</td>\n",
       "    </tr>\n",
       "    <tr>\n",
       "      <th>1753</th>\n",
       "      <td>1.583648e+10</td>\n",
       "      <td>683214122.0</td>\n",
       "      <td>Participant22</td>\n",
       "      <td>Recording32</td>\n",
       "      <td>0112_R_window_neither_basket</td>\n",
       "      <td>112</td>\n",
       "      <td>1</td>\n",
       "      <td>27</td>\n",
       "      <td>MouseClick</td>\n",
       "      <td>1389.0</td>\n",
       "      <td>...</td>\n",
       "      <td>False</td>\n",
       "      <td>7.658882</td>\n",
       "      <td>NaN</td>\n",
       "      <td>NaN</td>\n",
       "      <td>NaN</td>\n",
       "      <td>NaN</td>\n",
       "      <td>NaN</td>\n",
       "      <td>False</td>\n",
       "      <td>False</td>\n",
       "      <td>NaN</td>\n",
       "    </tr>\n",
       "    <tr>\n",
       "      <th>1867</th>\n",
       "      <td>1.586878e+10</td>\n",
       "      <td>715510142.0</td>\n",
       "      <td>Participant22</td>\n",
       "      <td>Recording32</td>\n",
       "      <td>035_L_filler_absent_fruit</td>\n",
       "      <td>35</td>\n",
       "      <td>1</td>\n",
       "      <td>29</td>\n",
       "      <td>MouseClick</td>\n",
       "      <td>1502.0</td>\n",
       "      <td>...</td>\n",
       "      <td>False</td>\n",
       "      <td>5.838400</td>\n",
       "      <td>NaN</td>\n",
       "      <td>NaN</td>\n",
       "      <td>NaN</td>\n",
       "      <td>NaN</td>\n",
       "      <td>NaN</td>\n",
       "      <td>False</td>\n",
       "      <td>False</td>\n",
       "      <td>NaN</td>\n",
       "    </tr>\n",
       "  </tbody>\n",
       "</table>\n",
       "<p>260 rows × 25 columns</p>\n",
       "</div>"
      ],
      "text/plain": [
       "      Computer_time   Event_time    Participant    Recording  \\\n",
       "246    1.484090e+11  340467488.0   Participant1  Recording11   \n",
       "459    1.484722e+11  403643367.0   Participant1  Recording11   \n",
       "701    1.485419e+11  473379272.0   Participant1  Recording11   \n",
       "738    1.485567e+11  488187295.0   Participant1  Recording11   \n",
       "861    1.485933e+11  524803235.0   Participant1  Recording11   \n",
       "...             ...          ...            ...          ...   \n",
       "985    1.558111e+10  427837973.0  Participant22  Recording32   \n",
       "1306   1.570592e+10  552654019.0  Participant22  Recording32   \n",
       "1346   1.571748e+10  564214077.0  Participant22  Recording32   \n",
       "1753   1.583648e+10  683214122.0  Participant22  Recording32   \n",
       "1867   1.586878e+10  715510142.0  Participant22  Recording32   \n",
       "\n",
       "                       Stimulus_name  Image_n  Repetition_n  Stimulus_n  \\\n",
       "246       05_R_filler_present_mirror        5             2           3   \n",
       "459        0115_R_window_neither_pot      115             2           6   \n",
       "701   097_L_mirrorONLY_neither_light       97             1          10   \n",
       "738        022_L_filler_present_lamp       22             0          11   \n",
       "861       055_R_filler_absent_carpet       55             1          13   \n",
       "...                              ...      ...           ...         ...   \n",
       "985      0118_L_window_neither_shoes      118             0          15   \n",
       "1306    040_R_filler_absent_painting       40             1          20   \n",
       "1346    049_R_filler_absent_painting       49             0          21   \n",
       "1753    0112_R_window_neither_basket      112             1          27   \n",
       "1867       035_L_filler_absent_fruit       35             1          29   \n",
       "\n",
       "      Event_type  Mouse_X  ...  Mouse_in_Mask  Response_time  Fixation_N  \\\n",
       "246   MouseClick   1372.0  ...          False       9.305029         NaN   \n",
       "459   MouseClick    943.0  ...          False      12.748102         NaN   \n",
       "701   MouseClick    899.0  ...          False       5.768082         NaN   \n",
       "738   MouseClick    924.0  ...          False       3.226367         NaN   \n",
       "861   MouseClick    929.0  ...          False       5.375836         NaN   \n",
       "...          ...      ...  ...            ...            ...         ...   \n",
       "985   MouseClick    909.0  ...          False       3.381078         NaN   \n",
       "1306  MouseClick   1295.0  ...           True       7.997895         NaN   \n",
       "1346  MouseClick   1298.0  ...          False       3.258082         NaN   \n",
       "1753  MouseClick   1389.0  ...          False       7.658882         NaN   \n",
       "1867  MouseClick   1502.0  ...          False       5.838400         NaN   \n",
       "\n",
       "      Fixation_X  Fixation_Y  Fixation_X'  Fixation_Y'  Fixation_in_Image  \\\n",
       "246          NaN         NaN          NaN          NaN              False   \n",
       "459          NaN         NaN          NaN          NaN              False   \n",
       "701          NaN         NaN          NaN          NaN              False   \n",
       "738          NaN         NaN          NaN          NaN              False   \n",
       "861          NaN         NaN          NaN          NaN              False   \n",
       "...          ...         ...          ...          ...                ...   \n",
       "985          NaN         NaN          NaN          NaN              False   \n",
       "1306         NaN         NaN          NaN          NaN              False   \n",
       "1346         NaN         NaN          NaN          NaN              False   \n",
       "1753         NaN         NaN          NaN          NaN              False   \n",
       "1867         NaN         NaN          NaN          NaN              False   \n",
       "\n",
       "      Fixation_in_Mask  Fixation_duration  \n",
       "246              False                NaN  \n",
       "459              False                NaN  \n",
       "701              False                NaN  \n",
       "738              False                NaN  \n",
       "861              False                NaN  \n",
       "...                ...                ...  \n",
       "985              False                NaN  \n",
       "1306             False                NaN  \n",
       "1346             False                NaN  \n",
       "1753             False                NaN  \n",
       "1867             False                NaN  \n",
       "\n",
       "[260 rows x 25 columns]"
      ]
     },
     "metadata": {},
     "output_type": "display_data"
    }
   ],
   "source": [
    "combined_all_dataframes[~combined_all_dataframes.Response_time.isna()]"
   ]
  },
  {
   "cell_type": "code",
   "execution_count": null,
   "id": "232db318",
   "metadata": {},
   "outputs": [
    {
     "data": {
      "text/plain": [
       "45467       Participant1\n",
       "45468       Participant1\n",
       "45469       Participant1\n",
       "45470       Participant1\n",
       "45471       Participant1\n",
       "               ...      \n",
       "1200056    Participant22\n",
       "1200057    Participant22\n",
       "1200058    Participant22\n",
       "1200059    Participant22\n",
       "1200060    Participant22\n",
       "Name: Participant name, Length: 1154594, dtype: object"
      ]
     },
     "metadata": {},
     "output_type": "display_data"
    }
   ],
   "source": [
    "og_file['Participant name']"
   ]
  },
  {
   "cell_type": "code",
   "execution_count": null,
   "id": "6de2d2d8",
   "metadata": {},
   "outputs": [],
   "source": [
    "combined_all_dataframes\n",
    "\n",
    "df_bool = combined_all_dataframes[['Participant','Stimulus_n','Mouse_in_Mask','Fixation_in_Mask']].groupby(by = ['Participant','Stimulus_n']).max() "
   ]
  },
  {
   "cell_type": "code",
   "execution_count": null,
   "id": "eac9edaa",
   "metadata": {},
   "outputs": [
    {
     "data": {
      "text/plain": [
       "Index(['Recording timestamp', 'Computer timestamp', 'Sensor', 'Export date',\n",
       "       'Participant name', 'Age', 'Using Glasses/Contacts?', 'Gender',\n",
       "       'Recording name', 'Recording date UTC', 'Recording start time UTC',\n",
       "       'Recording duration', 'Recording Fixation filter name',\n",
       "       'Recording resolution height', 'Recording resolution width',\n",
       "       'Recording monitor latency', 'Average calibration accuracy (mm)',\n",
       "       'Average calibration precision SD (mm)',\n",
       "       'Average calibration precision RMS (mm)',\n",
       "       'Average calibration accuracy (degrees)',\n",
       "       'Average calibration precision SD (degrees)',\n",
       "       'Average calibration precision RMS (degrees)',\n",
       "       'Average calibration accuracy (pixels)',\n",
       "       'Average calibration precision SD (pixels)',\n",
       "       'Average calibration precision RMS (pixels)',\n",
       "       'Average validation accuracy (mm)',\n",
       "       'Average validation precision SD (mm)',\n",
       "       'Average validation precision RMS (mm)',\n",
       "       'Average validation accuracy (degrees)',\n",
       "       'Average validation precision SD (degrees)',\n",
       "       'Average validation precision RMS (degrees)',\n",
       "       'Average validation accuracy (pixels)',\n",
       "       'Average validation precision SD (pixels)',\n",
       "       'Average validation precision RMS (pixels)', 'Eyetracker timestamp',\n",
       "       'Event', 'Event value', 'Gaze point X', 'Gaze point Y',\n",
       "       'Gaze point left X', 'Gaze point left Y', 'Gaze point right X',\n",
       "       'Gaze point right Y', 'Gaze direction left X', 'Gaze direction left Y',\n",
       "       'Gaze direction left Z', 'Gaze direction right X',\n",
       "       'Gaze direction right Y', 'Gaze direction right Z',\n",
       "       'Pupil diameter left', 'Pupil diameter right', 'Validity left',\n",
       "       'Validity right', 'Gaze point left X (DACSmm)',\n",
       "       'Gaze point left Y (DACSmm)', 'Gaze point right X (DACSmm)',\n",
       "       'Gaze point right Y (DACSmm)', 'Gaze point X (MCSnorm)',\n",
       "       'Gaze point Y (MCSnorm)', 'Gaze point left X (MCSnorm)',\n",
       "       'Gaze point left Y (MCSnorm)', 'Gaze point right X (MCSnorm)',\n",
       "       'Gaze point right Y (MCSnorm)', 'Presented Stimulus name',\n",
       "       'Size of Change', 'Presented Media name', 'Presented Media width',\n",
       "       'Presented Media height', 'Presented Media position X (DACSpx)',\n",
       "       'Presented Media position Y (DACSpx)', 'Original Media width',\n",
       "       'Original Media height', 'Eye movement type', 'Gaze event duration',\n",
       "       'Eye movement type index', 'Fixation point X', 'Fixation point Y',\n",
       "       'Fixation point X (MCSnorm)', 'Fixation point Y (MCSnorm)',\n",
       "       'Mouse position X', 'Mouse position Y'],\n",
       "      dtype='object')"
      ]
     },
     "metadata": {},
     "output_type": "display_data"
    }
   ],
   "source": [
    "og_file.columns"
   ]
  },
  {
   "cell_type": "code",
   "execution_count": null,
   "id": "64a8648f",
   "metadata": {},
   "outputs": [],
   "source": [
    "df_participants = pd.DataFrame()\n",
    "\n",
    "df_participants['Participant name'] = combined_all_dataframes.Participant.unique()"
   ]
  },
  {
   "cell_type": "code",
   "execution_count": null,
   "id": "fdafdbc4",
   "metadata": {},
   "outputs": [
    {
     "data": {
      "text/plain": [
       "(20, 1)"
      ]
     },
     "metadata": {},
     "output_type": "display_data"
    }
   ],
   "source": [
    "df_participants.shape"
   ]
  },
  {
   "cell_type": "code",
   "execution_count": null,
   "id": "7c400c54",
   "metadata": {},
   "outputs": [],
   "source": [
    "df_participants = df_participants.merge(og_file[[\n",
    "    'Participant name', 'Age','Gender','Using Glasses/Contacts?',\n",
    "    'Average calibration accuracy (degrees)',\n",
    "    'Average calibration precision SD (degrees)',\n",
    "        'Average validation precision SD (mm)',\n",
    "       'Average validation accuracy (degrees)' \n",
    "]],on = 'Participant name',how = 'left')\n",
    "df_participants = df_participants.drop_duplicates()"
   ]
  },
  {
   "cell_type": "code",
   "execution_count": null,
   "id": "e3a33e61",
   "metadata": {},
   "outputs": [
    {
     "data": {
      "text/html": [
       "<div>\n",
       "<style scoped>\n",
       "    .dataframe tbody tr th:only-of-type {\n",
       "        vertical-align: middle;\n",
       "    }\n",
       "\n",
       "    .dataframe tbody tr th {\n",
       "        vertical-align: top;\n",
       "    }\n",
       "\n",
       "    .dataframe thead th {\n",
       "        text-align: right;\n",
       "    }\n",
       "</style>\n",
       "<table border=\"1\" class=\"dataframe\">\n",
       "  <thead>\n",
       "    <tr style=\"text-align: right;\">\n",
       "      <th></th>\n",
       "      <th>Participant name</th>\n",
       "      <th>Age</th>\n",
       "      <th>Gender</th>\n",
       "      <th>Using Glasses/Contacts?</th>\n",
       "      <th>Average calibration accuracy (degrees)</th>\n",
       "      <th>Average calibration precision SD (degrees)</th>\n",
       "      <th>Average validation precision SD (mm)</th>\n",
       "      <th>Average validation accuracy (degrees)</th>\n",
       "    </tr>\n",
       "  </thead>\n",
       "  <tbody>\n",
       "    <tr>\n",
       "      <th>0</th>\n",
       "      <td>Participant1</td>\n",
       "      <td>30 - 40</td>\n",
       "      <td>Female</td>\n",
       "      <td>No</td>\n",
       "      <td>0,64</td>\n",
       "      <td>NaN</td>\n",
       "      <td>1,8</td>\n",
       "      <td>0,44</td>\n",
       "    </tr>\n",
       "    <tr>\n",
       "      <th>60460</th>\n",
       "      <td>Participant2</td>\n",
       "      <td>20 - 30</td>\n",
       "      <td>Female</td>\n",
       "      <td>Yes</td>\n",
       "      <td>3,95</td>\n",
       "      <td>NaN</td>\n",
       "      <td>1,9</td>\n",
       "      <td>0,79</td>\n",
       "    </tr>\n",
       "    <tr>\n",
       "      <th>119128</th>\n",
       "      <td>Participant3</td>\n",
       "      <td>20 - 30</td>\n",
       "      <td>Male</td>\n",
       "      <td>Yes</td>\n",
       "      <td>NaN</td>\n",
       "      <td>NaN</td>\n",
       "      <td>NaN</td>\n",
       "      <td>NaN</td>\n",
       "    </tr>\n",
       "    <tr>\n",
       "      <th>136735</th>\n",
       "      <td>Participant3</td>\n",
       "      <td>20 - 30</td>\n",
       "      <td>Male</td>\n",
       "      <td>Yes</td>\n",
       "      <td>1,30</td>\n",
       "      <td>NaN</td>\n",
       "      <td>4,8</td>\n",
       "      <td>0,78</td>\n",
       "    </tr>\n",
       "    <tr>\n",
       "      <th>214970</th>\n",
       "      <td>Participant4</td>\n",
       "      <td>20 - 30</td>\n",
       "      <td>Male</td>\n",
       "      <td>No</td>\n",
       "      <td>0,60</td>\n",
       "      <td>NaN</td>\n",
       "      <td>1,8</td>\n",
       "      <td>0,43</td>\n",
       "    </tr>\n",
       "  </tbody>\n",
       "</table>\n",
       "</div>"
      ],
      "text/plain": [
       "       Participant name      Age  Gender Using Glasses/Contacts?  \\\n",
       "0          Participant1  30 - 40  Female                      No   \n",
       "60460      Participant2  20 - 30  Female                     Yes   \n",
       "119128     Participant3  20 - 30    Male                     Yes   \n",
       "136735     Participant3  20 - 30    Male                     Yes   \n",
       "214970     Participant4  20 - 30    Male                      No   \n",
       "\n",
       "       Average calibration accuracy (degrees)  \\\n",
       "0                                        0,64   \n",
       "60460                                    3,95   \n",
       "119128                                    NaN   \n",
       "136735                                   1,30   \n",
       "214970                                   0,60   \n",
       "\n",
       "       Average calibration precision SD (degrees)  \\\n",
       "0                                             NaN   \n",
       "60460                                         NaN   \n",
       "119128                                        NaN   \n",
       "136735                                        NaN   \n",
       "214970                                        NaN   \n",
       "\n",
       "       Average validation precision SD (mm)  \\\n",
       "0                                       1,8   \n",
       "60460                                   1,9   \n",
       "119128                                  NaN   \n",
       "136735                                  4,8   \n",
       "214970                                  1,8   \n",
       "\n",
       "       Average validation accuracy (degrees)  \n",
       "0                                       0,44  \n",
       "60460                                   0,79  \n",
       "119128                                   NaN  \n",
       "136735                                  0,78  \n",
       "214970                                  0,43  "
      ]
     },
     "metadata": {},
     "output_type": "display_data"
    }
   ],
   "source": [
    "df_participants.head()"
   ]
  },
  {
   "cell_type": "code",
   "execution_count": null,
   "id": "2732c197",
   "metadata": {},
   "outputs": [
    {
     "data": {
      "text/plain": [
       "Gender\n",
       "Female    12\n",
       "Male       9\n",
       "dtype: int64"
      ]
     },
     "metadata": {},
     "output_type": "display_data"
    }
   ],
   "source": [
    "df_participants[['Gender']].value_counts()"
   ]
  },
  {
   "cell_type": "code",
   "execution_count": null,
   "id": "3994b466",
   "metadata": {},
   "outputs": [],
   "source": [
    "df_participants.to_csv('participantData.csv')"
   ]
  }
 ],
 "metadata": {
  "kernelspec": {
   "display_name": "Python 3.9.7 ('base')",
   "language": "python",
   "name": "python3"
  },
  "language_info": {
   "name": "python",
   "version": "3.9.7"
  },
  "orig_nbformat": 4,
  "vscode": {
   "interpreter": {
    "hash": "ad2bdc8ecc057115af97d19610ffacc2b4e99fae6737bb82f5d7fb13d2f2c186"
   }
  }
 },
 "nbformat": 4,
 "nbformat_minor": 2
}
